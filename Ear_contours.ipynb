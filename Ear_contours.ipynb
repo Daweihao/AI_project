{
 "cells": [
  {
   "cell_type": "code",
   "execution_count": 1,
   "metadata": {},
   "outputs": [],
   "source": [
    "import cv2"
   ]
  },
  {
   "cell_type": "code",
   "execution_count": 54,
   "metadata": {},
   "outputs": [],
   "source": [
    "#link: https://docs.opencv.org/3.1.0/d4/d73/tutorial_py_contours_begin.html\n",
    "img1 = cv2.imread('Cropped/147_dt.jpg')\n",
    "#img1 = cv2.imread('earImageDataset/147_.jpg')\n",
    "gray1 = cv2.cvtColor(img1, cv2.COLOR_BGR2GRAY)\n",
    "gray2 = cv2.equalizeHist(gray1)         #灰度图片直方图均衡化\n",
    "#thresh1 = cv2.adaptiveThreshold(gray2,255,cv2.ADAPTIVE_THRESH_GAUSSIAN_C,cv2.THRESH_BINARY,11,2)\n",
    "ret1, thresh1 = cv2.threshold(gray2, 127, 255, 0)\n",
    "cv2.imshow('image', cv2.resize(gray2,(378,504)))\n",
    "cv2.waitKey(0)\n",
    "im2, contours, hierarchy = cv2.findContours(thresh1, cv2.RETR_TREE, cv2.CHAIN_APPROX_NONE)\n",
    "\n",
    "cnts = sorted(contours, key = cv2.contourArea, reverse = True)\n",
    "for cnt in cnts:\n",
    "    if(len(cnt)>800):\n",
    "        cv2.drawContours(img1, cnt, -1, (0,255,0), 3)\n",
    "cv2.namedWindow('image', cv2.WINDOW_NORMAL)\n",
    "gray1_rs = cv2.resize(img1, (756, 1008))\n",
    "cv2.imshow('image', gray1_rs)\n",
    "cv2.waitKey(0)\n",
    "cv2.destroyAllWindows()\n",
    "\n"
   ]
  },
  {
   "cell_type": "code",
   "execution_count": null,
   "metadata": {},
   "outputs": [],
   "source": []
  },
  {
   "cell_type": "code",
   "execution_count": null,
   "metadata": {},
   "outputs": [],
   "source": []
  }
 ],
 "metadata": {
  "kernelspec": {
   "display_name": "Python 3",
   "language": "python",
   "name": "python3"
  },
  "language_info": {
   "codemirror_mode": {
    "name": "ipython",
    "version": 3
   },
   "file_extension": ".py",
   "mimetype": "text/x-python",
   "name": "python",
   "nbconvert_exporter": "python",
   "pygments_lexer": "ipython3",
   "version": "3.7.1"
  }
 },
 "nbformat": 4,
 "nbformat_minor": 2
}
