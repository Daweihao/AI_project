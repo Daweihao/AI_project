{
 "cells": [
  {
   "cell_type": "code",
   "execution_count": 2,
   "metadata": {},
   "outputs": [],
   "source": [
    "import cv2"
   ]
  },
  {
   "cell_type": "code",
   "execution_count": null,
   "metadata": {},
   "outputs": [],
   "source": [
    "#link: https://docs.opencv.org/3.1.0/d4/d73/tutorial_py_contours_begin.html\n",
    "img1 = cv2.imread('earImageDataset/constrained_img/constrained/001_d.jpg')\n",
    "gray1 = cv2.cvtColor(img1, cv2.COLOR_BGR2GRAY)\n",
    "ret1, thresh1 = cv2.threshold(gray1, 127, 255, 0)\n",
    "im2, contours, hierarchy = cv2.findContours(thresh1, cv2.RETR_TREE, cv2.CHAIN_APPROX_SIMPLE)\n",
    "\n",
    "cnts = sorted(contours, key = cv2.contourArea, reverse = True)[2:6]\n",
    "\n",
    "cv2.drawContours(img1, cnts, -1, (0,255,0), 3)\n",
    "cv2.namedWindow('image', cv2.WINDOW_NORMAL)\n",
    "gray1_rs = cv2.resize(img1, (756, 1008))\n",
    "cv2.imshow('image', gray1_rs)\n",
    "cv2.waitKey(0)\n",
    "cv2.destroyAllWindows()"
   ]
  },
  {
   "cell_type": "code",
   "execution_count": null,
   "metadata": {},
   "outputs": [],
   "source": []
  }
 ],
 "metadata": {
  "kernelspec": {
   "display_name": "Python 2",
   "language": "python",
   "name": "python2"
  },
  "language_info": {
   "codemirror_mode": {
    "name": "ipython",
    "version": 2
   },
   "file_extension": ".py",
   "mimetype": "text/x-python",
   "name": "python",
   "nbconvert_exporter": "python",
   "pygments_lexer": "ipython2",
   "version": "2.7.3"
  }
 },
 "nbformat": 4,
 "nbformat_minor": 2
}
