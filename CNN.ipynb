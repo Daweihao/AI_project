{
 "cells": [
  {
   "cell_type": "code",
   "execution_count": 35,
   "metadata": {
    "ExecuteTime": {
     "end_time": "2019-04-08T18:27:09.140530Z",
     "start_time": "2019-04-08T18:27:08.228071Z"
    }
   },
   "outputs": [],
   "source": [
    "from keras.utils import np_utils\n",
    "from keras import optimizers\n",
    "from keras.models import Model, Sequential\n",
    "from keras.layers import Input, Convolution2D, ZeroPadding2D, MaxPooling2D, Flatten, Dense, Dropout, Activation\n",
    "from PIL import Image\n",
    "import numpy as np\n",
    "from keras.preprocessing.image import load_img, save_img, img_to_array\n",
    "from keras.applications.imagenet_utils import preprocess_input\n",
    "from keras.preprocessing import image\n",
    "from numpy import linalg as LA\n",
    "import matplotlib.pyplot as plt\n",
    "import os\n",
    "from sklearn.model_selection import train_test_split"
   ]
  },
  {
   "cell_type": "code",
   "execution_count": 117,
   "metadata": {
    "ExecuteTime": {
     "end_time": "2019-04-09T00:28:36.042378Z",
     "start_time": "2019-04-09T00:28:25.257830Z"
    }
   },
   "outputs": [],
   "source": [
    "img_list = []\n",
    "y_list = []\n",
    "for file in os.listdir(\"Cropped/\"):\n",
    "    yi = int(file.split('_')[0]) - 1 \n",
    "#     image = cv2.imread(\"Cropped/\"+ file)\n",
    "# #     image = cv2.imread(\"Cropped/\"+ file)\n",
    "#     image = cv2.resize(image,(224,224))\n",
    "    img = preprocess_image(\"Cropped/\"+ file)[0,:]\n",
    "    img_list.append(img)\n",
    "    y_list.append(yi)\n",
    "X = np.array(img_list)\n",
    "y = np.array(y_list)"
   ]
  },
  {
   "cell_type": "code",
   "execution_count": 118,
   "metadata": {
    "ExecuteTime": {
     "end_time": "2019-04-09T00:28:37.420297Z",
     "start_time": "2019-04-09T00:28:37.409868Z"
    }
   },
   "outputs": [
    {
     "data": {
      "text/plain": [
       "(780, 224, 224, 3)"
      ]
     },
     "execution_count": 118,
     "metadata": {},
     "output_type": "execute_result"
    }
   ],
   "source": [
    "X.shape"
   ]
  },
  {
   "cell_type": "code",
   "execution_count": 119,
   "metadata": {
    "ExecuteTime": {
     "end_time": "2019-04-09T00:28:43.058128Z",
     "start_time": "2019-04-09T00:28:42.292141Z"
    }
   },
   "outputs": [],
   "source": [
    "X_train, X_test, y_train, y_test = train_test_split(\n",
    "    X, y, test_size=0.25, random_state=42)"
   ]
  },
  {
   "cell_type": "code",
   "execution_count": 218,
   "metadata": {
    "ExecuteTime": {
     "end_time": "2019-04-09T02:21:17.372808Z",
     "start_time": "2019-04-09T02:21:17.369288Z"
    }
   },
   "outputs": [],
   "source": [
    "y_train = y_train.reshape((-1, 1))"
   ]
  },
  {
   "cell_type": "code",
   "execution_count": 120,
   "metadata": {
    "ExecuteTime": {
     "end_time": "2019-04-09T00:28:44.472271Z",
     "start_time": "2019-04-09T00:28:44.463587Z"
    }
   },
   "outputs": [
    {
     "data": {
      "text/plain": [
       "(585, 224, 224, 3)"
      ]
     },
     "execution_count": 120,
     "metadata": {},
     "output_type": "execute_result"
    }
   ],
   "source": [
    "X_train.shape"
   ]
  },
  {
   "cell_type": "code",
   "execution_count": 207,
   "metadata": {
    "ExecuteTime": {
     "end_time": "2019-04-09T02:09:33.957943Z",
     "start_time": "2019-04-09T02:09:33.498735Z"
    }
   },
   "outputs": [],
   "source": [
    "model = Sequential()\n",
    "model.add(ZeroPadding2D((1,1),input_shape=(224,224, 3)))\n",
    "model.add(Convolution2D(64, (3, 3), activation='relu'))\n",
    "model.add(ZeroPadding2D((1,1)))\n",
    "model.add(Convolution2D(64, (3, 3), activation='relu'))\n",
    "model.add(MaxPooling2D((2,2), strides=(2,2)))\n",
    "\n",
    "model.add(ZeroPadding2D((1,1)))\n",
    "model.add(Convolution2D(128, (3, 3), activation='relu'))\n",
    "model.add(ZeroPadding2D((1,1)))\n",
    "model.add(Convolution2D(128, (3, 3), activation='relu'))\n",
    "model.add(MaxPooling2D((2,2), strides=(2,2)))\n",
    "\n",
    "model.add(ZeroPadding2D((1,1)))\n",
    "model.add(Convolution2D(256, (3, 3), activation='relu'))\n",
    "model.add(ZeroPadding2D((1,1)))\n",
    "model.add(Convolution2D(256, (3, 3), activation='relu'))\n",
    "model.add(ZeroPadding2D((1,1)))\n",
    "model.add(Convolution2D(256, (3, 3), activation='relu'))\n",
    "model.add(MaxPooling2D((2,2), strides=(2,2)))\n",
    "\n",
    "model.add(ZeroPadding2D((1,1)))\n",
    "model.add(Convolution2D(512, (3, 3), activation='relu'))\n",
    "model.add(ZeroPadding2D((1,1)))\n",
    "model.add(Convolution2D(512, (3, 3), activation='relu'))\n",
    "model.add(ZeroPadding2D((1,1)))\n",
    "model.add(Convolution2D(512, (3, 3), activation='relu'))\n",
    "model.add(MaxPooling2D((2,2), strides=(2,2)))\n",
    "\n",
    "model.add(ZeroPadding2D((1,1)))\n",
    "model.add(Convolution2D(512, (3, 3), activation='relu'))\n",
    "model.add(ZeroPadding2D((1,1)))\n",
    "model.add(Convolution2D(512, (3, 3), activation='relu'))\n",
    "model.add(ZeroPadding2D((1,1)))\n",
    "model.add(Convolution2D(512, (3, 3), activation='relu'))\n",
    "model.add(MaxPooling2D((2,2), strides=(2,2)))\n",
    "\n",
    "# model.add(Flatten())\n",
    "# model.add(Dense(4096,activation='relu'))\n",
    "# model.add(Dropout(0.5))\n",
    "# model.add(Dense(195,activation='relu'))\n",
    "model.add(Convolution2D(4096, (7, 7), activation='relu'))\n",
    "model.add(Dropout(0.5))\n",
    "model.add(Convolution2D(4096, (1, 1), activation='relu'))\n",
    "model.add(Dropout(0.5))\n",
    "model.add(Convolution2D(2622, (1, 1)))\n",
    "model.add(Flatten())\n",
    "model.add(Activation('softmax'))\n",
    "for layer in model.layers[:30]:\n",
    "    layer.trainable = False"
   ]
  },
  {
   "cell_type": "code",
   "execution_count": 177,
   "metadata": {
    "ExecuteTime": {
     "end_time": "2019-04-09T02:04:18.112210Z",
     "start_time": "2019-04-09T02:03:54.542058Z"
    }
   },
   "outputs": [],
   "source": [
    "from keras.models import model_from_json\n",
    "model.load_weights('vgg_face_weights.h5')"
   ]
  },
  {
   "cell_type": "code",
   "execution_count": 208,
   "metadata": {
    "ExecuteTime": {
     "end_time": "2019-04-09T02:09:35.672018Z",
     "start_time": "2019-04-09T02:09:35.654454Z"
    }
   },
   "outputs": [],
   "source": [
    "model.pop()\n",
    "model.pop()\n",
    "model.pop()\n",
    "model.pop()\n",
    "model.pop()\n",
    "model.pop()\n",
    "model.pop()"
   ]
  },
  {
   "cell_type": "code",
   "execution_count": 209,
   "metadata": {
    "ExecuteTime": {
     "end_time": "2019-04-09T02:09:37.482729Z",
     "start_time": "2019-04-09T02:09:37.373855Z"
    }
   },
   "outputs": [],
   "source": [
    "model.add(Flatten())\n",
    "model.add(Dense(512, activation='relu'))\n",
    "model.add(Dropout(0.5))\n",
    "model.add(Dense(195, activation='relu'))"
   ]
  },
  {
   "cell_type": "code",
   "execution_count": 14,
   "metadata": {
    "ExecuteTime": {
     "end_time": "2019-04-08T04:34:24.131777Z",
     "start_time": "2019-04-08T04:34:24.110694Z"
    }
   },
   "outputs": [],
   "source": [
    "def preprocess_image(image_path):\n",
    "    img = load_img(image_path, target_size=(224, 224))\n",
    "    img = img_to_array(img)\n",
    "    img = np.expand_dims(img, axis=0)\n",
    "    img = preprocess_input(img)\n",
    "    return img\n",
    "def findCosineSimilarity(source_representation, test_representation):\n",
    "    a = np.matmul(np.transpose(source_representation), test_representation)\n",
    "    b = np.sum(np.multiply(source_representation, source_representation))\n",
    "    c = np.sum(np.multiply(test_representation, test_representation))\n",
    "    return 1 - (a / (np.sqrt(b) * np.sqrt(c)))\n",
    "\n",
    "def findEuclideanDistance(source_representation, test_representation):\n",
    "    euclidean_distance = source_representation - test_representation\n",
    "    euclidean_distance = np.sum(np.multiply(euclidean_distance, euclidean_distance))\n",
    "    euclidean_distance = np.sqrt(euclidean_distance)\n",
    "    return euclidean_distance"
   ]
  },
  {
   "cell_type": "code",
   "execution_count": 210,
   "metadata": {
    "ExecuteTime": {
     "end_time": "2019-04-09T02:09:39.070522Z",
     "start_time": "2019-04-09T02:09:39.061024Z"
    }
   },
   "outputs": [],
   "source": [
    "vgg_ear_descriptor = Model(inputs=model.layers[0].input, outputs=model.layers[-1].output)"
   ]
  },
  {
   "cell_type": "code",
   "execution_count": 211,
   "metadata": {
    "ExecuteTime": {
     "end_time": "2019-04-09T02:09:40.642339Z",
     "start_time": "2019-04-09T02:09:40.625503Z"
    }
   },
   "outputs": [
    {
     "name": "stdout",
     "output_type": "stream",
     "text": [
      "_________________________________________________________________\n",
      "Layer (type)                 Output Shape              Param #   \n",
      "=================================================================\n",
      "zero_padding2d_196_input (In (None, 224, 224, 3)       0         \n",
      "_________________________________________________________________\n",
      "zero_padding2d_196 (ZeroPadd (None, 226, 226, 3)       0         \n",
      "_________________________________________________________________\n",
      "conv2d_234 (Conv2D)          (None, 224, 224, 64)      1792      \n",
      "_________________________________________________________________\n",
      "zero_padding2d_197 (ZeroPadd (None, 226, 226, 64)      0         \n",
      "_________________________________________________________________\n",
      "conv2d_235 (Conv2D)          (None, 224, 224, 64)      36928     \n",
      "_________________________________________________________________\n",
      "max_pooling2d_78 (MaxPooling (None, 112, 112, 64)      0         \n",
      "_________________________________________________________________\n",
      "zero_padding2d_198 (ZeroPadd (None, 114, 114, 64)      0         \n",
      "_________________________________________________________________\n",
      "conv2d_236 (Conv2D)          (None, 112, 112, 128)     73856     \n",
      "_________________________________________________________________\n",
      "zero_padding2d_199 (ZeroPadd (None, 114, 114, 128)     0         \n",
      "_________________________________________________________________\n",
      "conv2d_237 (Conv2D)          (None, 112, 112, 128)     147584    \n",
      "_________________________________________________________________\n",
      "max_pooling2d_79 (MaxPooling (None, 56, 56, 128)       0         \n",
      "_________________________________________________________________\n",
      "zero_padding2d_200 (ZeroPadd (None, 58, 58, 128)       0         \n",
      "_________________________________________________________________\n",
      "conv2d_238 (Conv2D)          (None, 56, 56, 256)       295168    \n",
      "_________________________________________________________________\n",
      "zero_padding2d_201 (ZeroPadd (None, 58, 58, 256)       0         \n",
      "_________________________________________________________________\n",
      "conv2d_239 (Conv2D)          (None, 56, 56, 256)       590080    \n",
      "_________________________________________________________________\n",
      "zero_padding2d_202 (ZeroPadd (None, 58, 58, 256)       0         \n",
      "_________________________________________________________________\n",
      "conv2d_240 (Conv2D)          (None, 56, 56, 256)       590080    \n",
      "_________________________________________________________________\n",
      "max_pooling2d_80 (MaxPooling (None, 28, 28, 256)       0         \n",
      "_________________________________________________________________\n",
      "zero_padding2d_203 (ZeroPadd (None, 30, 30, 256)       0         \n",
      "_________________________________________________________________\n",
      "conv2d_241 (Conv2D)          (None, 28, 28, 512)       1180160   \n",
      "_________________________________________________________________\n",
      "zero_padding2d_204 (ZeroPadd (None, 30, 30, 512)       0         \n",
      "_________________________________________________________________\n",
      "conv2d_242 (Conv2D)          (None, 28, 28, 512)       2359808   \n",
      "_________________________________________________________________\n",
      "zero_padding2d_205 (ZeroPadd (None, 30, 30, 512)       0         \n",
      "_________________________________________________________________\n",
      "conv2d_243 (Conv2D)          (None, 28, 28, 512)       2359808   \n",
      "_________________________________________________________________\n",
      "max_pooling2d_81 (MaxPooling (None, 14, 14, 512)       0         \n",
      "_________________________________________________________________\n",
      "zero_padding2d_206 (ZeroPadd (None, 16, 16, 512)       0         \n",
      "_________________________________________________________________\n",
      "conv2d_244 (Conv2D)          (None, 14, 14, 512)       2359808   \n",
      "_________________________________________________________________\n",
      "zero_padding2d_207 (ZeroPadd (None, 16, 16, 512)       0         \n",
      "_________________________________________________________________\n",
      "conv2d_245 (Conv2D)          (None, 14, 14, 512)       2359808   \n",
      "_________________________________________________________________\n",
      "zero_padding2d_208 (ZeroPadd (None, 16, 16, 512)       0         \n",
      "_________________________________________________________________\n",
      "conv2d_246 (Conv2D)          (None, 14, 14, 512)       2359808   \n",
      "_________________________________________________________________\n",
      "max_pooling2d_82 (MaxPooling (None, 7, 7, 512)         0         \n",
      "_________________________________________________________________\n",
      "flatten_27 (Flatten)         (None, 25088)             0         \n",
      "_________________________________________________________________\n",
      "dense_25 (Dense)             (None, 512)               12845568  \n",
      "_________________________________________________________________\n",
      "dropout_40 (Dropout)         (None, 512)               0         \n",
      "_________________________________________________________________\n",
      "dense_26 (Dense)             (None, 195)               100035    \n",
      "=================================================================\n",
      "Total params: 27,660,291\n",
      "Trainable params: 12,945,603\n",
      "Non-trainable params: 14,714,688\n",
      "_________________________________________________________________\n"
     ]
    }
   ],
   "source": [
    "vgg_ear_descriptor.summary()"
   ]
  },
  {
   "cell_type": "code",
   "execution_count": 213,
   "metadata": {
    "ExecuteTime": {
     "end_time": "2019-04-09T02:10:39.917151Z",
     "start_time": "2019-04-09T02:10:39.849739Z"
    }
   },
   "outputs": [],
   "source": [
    "sgd = optimizers.SGD(lr=1e-3, decay=1e-6, momentum=0.9, nesterov=True)\n",
    "vgg_ear_descriptor.compile(optimizer=sgd,loss='sparse_categorical_crossentropy', metrics=['accuracy'])"
   ]
  },
  {
   "cell_type": "code",
   "execution_count": 217,
   "metadata": {
    "ExecuteTime": {
     "end_time": "2019-04-09T02:17:27.695201Z",
     "start_time": "2019-04-09T02:17:27.690075Z"
    }
   },
   "outputs": [
    {
     "data": {
      "text/plain": [
       "(585,)"
      ]
     },
     "execution_count": 217,
     "metadata": {},
     "output_type": "execute_result"
    }
   ],
   "source": [
    "y_train"
   ]
  },
  {
   "cell_type": "code",
   "execution_count": 221,
   "metadata": {
    "ExecuteTime": {
     "end_time": "2019-04-09T02:25:51.104396Z",
     "start_time": "2019-04-09T02:25:50.980903Z"
    }
   },
   "outputs": [
    {
     "ename": "ValueError",
     "evalue": "Error when checking target: expected dense_26 to have shape (195,) but got array with shape (1,)",
     "output_type": "error",
     "traceback": [
      "\u001b[0;31m---------------------------------------------------------------------------\u001b[0m",
      "\u001b[0;31mValueError\u001b[0m                                Traceback (most recent call last)",
      "\u001b[0;32m<ipython-input-221-2ce848472732>\u001b[0m in \u001b[0;36m<module>\u001b[0;34m()\u001b[0m\n\u001b[0;32m----> 1\u001b[0;31m \u001b[0mvgg_ear_descriptor\u001b[0m\u001b[0;34m.\u001b[0m\u001b[0mfit\u001b[0m\u001b[0;34m(\u001b[0m\u001b[0mX_train\u001b[0m\u001b[0;34m,\u001b[0m\u001b[0my_train\u001b[0m\u001b[0;34m,\u001b[0m\u001b[0mepochs\u001b[0m\u001b[0;34m=\u001b[0m\u001b[0;36m1\u001b[0m\u001b[0;34m)\u001b[0m\u001b[0;34m\u001b[0m\u001b[0m\n\u001b[0m",
      "\u001b[0;32m/Users/weihaoran/env/lib/python3.6/site-packages/keras/engine/training.py\u001b[0m in \u001b[0;36mfit\u001b[0;34m(self, x, y, batch_size, epochs, verbose, callbacks, validation_split, validation_data, shuffle, class_weight, sample_weight, initial_epoch, steps_per_epoch, validation_steps, **kwargs)\u001b[0m\n\u001b[1;32m    950\u001b[0m             \u001b[0msample_weight\u001b[0m\u001b[0;34m=\u001b[0m\u001b[0msample_weight\u001b[0m\u001b[0;34m,\u001b[0m\u001b[0;34m\u001b[0m\u001b[0m\n\u001b[1;32m    951\u001b[0m             \u001b[0mclass_weight\u001b[0m\u001b[0;34m=\u001b[0m\u001b[0mclass_weight\u001b[0m\u001b[0;34m,\u001b[0m\u001b[0;34m\u001b[0m\u001b[0m\n\u001b[0;32m--> 952\u001b[0;31m             batch_size=batch_size)\n\u001b[0m\u001b[1;32m    953\u001b[0m         \u001b[0;31m# Prepare validation data.\u001b[0m\u001b[0;34m\u001b[0m\u001b[0;34m\u001b[0m\u001b[0m\n\u001b[1;32m    954\u001b[0m         \u001b[0mdo_validation\u001b[0m \u001b[0;34m=\u001b[0m \u001b[0;32mFalse\u001b[0m\u001b[0;34m\u001b[0m\u001b[0m\n",
      "\u001b[0;32m/Users/weihaoran/env/lib/python3.6/site-packages/keras/engine/training.py\u001b[0m in \u001b[0;36m_standardize_user_data\u001b[0;34m(self, x, y, sample_weight, class_weight, check_array_lengths, batch_size)\u001b[0m\n\u001b[1;32m    787\u001b[0m                 \u001b[0mfeed_output_shapes\u001b[0m\u001b[0;34m,\u001b[0m\u001b[0;34m\u001b[0m\u001b[0m\n\u001b[1;32m    788\u001b[0m                 \u001b[0mcheck_batch_axis\u001b[0m\u001b[0;34m=\u001b[0m\u001b[0;32mFalse\u001b[0m\u001b[0;34m,\u001b[0m  \u001b[0;31m# Don't enforce the batch size.\u001b[0m\u001b[0;34m\u001b[0m\u001b[0m\n\u001b[0;32m--> 789\u001b[0;31m                 exception_prefix='target')\n\u001b[0m\u001b[1;32m    790\u001b[0m \u001b[0;34m\u001b[0m\u001b[0m\n\u001b[1;32m    791\u001b[0m             \u001b[0;31m# Generate sample-wise weight values given the `sample_weight` and\u001b[0m\u001b[0;34m\u001b[0m\u001b[0;34m\u001b[0m\u001b[0m\n",
      "\u001b[0;32m/Users/weihaoran/env/lib/python3.6/site-packages/keras/engine/training_utils.py\u001b[0m in \u001b[0;36mstandardize_input_data\u001b[0;34m(data, names, shapes, check_batch_axis, exception_prefix)\u001b[0m\n\u001b[1;32m    136\u001b[0m                             \u001b[0;34m': expected '\u001b[0m \u001b[0;34m+\u001b[0m \u001b[0mnames\u001b[0m\u001b[0;34m[\u001b[0m\u001b[0mi\u001b[0m\u001b[0;34m]\u001b[0m \u001b[0;34m+\u001b[0m \u001b[0;34m' to have shape '\u001b[0m \u001b[0;34m+\u001b[0m\u001b[0;34m\u001b[0m\u001b[0m\n\u001b[1;32m    137\u001b[0m                             \u001b[0mstr\u001b[0m\u001b[0;34m(\u001b[0m\u001b[0mshape\u001b[0m\u001b[0;34m)\u001b[0m \u001b[0;34m+\u001b[0m \u001b[0;34m' but got array with shape '\u001b[0m \u001b[0;34m+\u001b[0m\u001b[0;34m\u001b[0m\u001b[0m\n\u001b[0;32m--> 138\u001b[0;31m                             str(data_shape))\n\u001b[0m\u001b[1;32m    139\u001b[0m     \u001b[0;32mreturn\u001b[0m \u001b[0mdata\u001b[0m\u001b[0;34m\u001b[0m\u001b[0m\n\u001b[1;32m    140\u001b[0m \u001b[0;34m\u001b[0m\u001b[0m\n",
      "\u001b[0;31mValueError\u001b[0m: Error when checking target: expected dense_26 to have shape (195,) but got array with shape (1,)"
     ]
    }
   ],
   "source": [
    "vgg_ear_descriptor.fit(X_train,y_train,epochs=1)"
   ]
  },
  {
   "cell_type": "code",
   "execution_count": 26,
   "metadata": {
    "ExecuteTime": {
     "end_time": "2019-04-08T13:28:54.853050Z",
     "start_time": "2019-04-08T13:21:59.681902Z"
    }
   },
   "outputs": [],
   "source": [
    "knowledges = []\n",
    "ref = {}\n",
    "i = 0\n",
    "for file in os.listdir(\"Cropped/\"):\n",
    "    img_representation = vgg_ear_descriptor.predict(preprocess_image('Cropped/%s' % (file)))[0,:]\n",
    "    ref[i] = file.split('_')[0]\n",
    "    knowledges.append(img_representation)\n",
    "    i+=1"
   ]
  },
  {
   "cell_type": "code",
   "execution_count": 68,
   "metadata": {
    "ExecuteTime": {
     "end_time": "2019-04-08T19:15:53.320471Z",
     "start_time": "2019-04-08T19:15:53.313512Z"
    }
   },
   "outputs": [],
   "source": [
    "j = 0\n",
    "ref = {}\n",
    "for file in os.listdir(\"Cropped/\"):\n",
    "    ref[j] = (int)(file.split('_')[0])\n",
    "    j+=1"
   ]
  },
  {
   "cell_type": "code",
   "execution_count": 69,
   "metadata": {
    "ExecuteTime": {
     "end_time": "2019-04-08T19:15:55.187212Z",
     "start_time": "2019-04-08T19:15:55.166182Z"
    }
   },
   "outputs": [
    {
     "data": {
      "text/plain": [
       "{0: 121,\n",
       " 1: 164,\n",
       " 2: 75,\n",
       " 3: 130,\n",
       " 4: 66,\n",
       " 5: 23,\n",
       " 6: 60,\n",
       " 7: 160,\n",
       " 8: 3,\n",
       " 9: 188,\n",
       " 10: 22,\n",
       " 11: 103,\n",
       " 12: 186,\n",
       " 13: 84,\n",
       " 14: 167,\n",
       " 15: 79,\n",
       " 16: 34,\n",
       " 17: 44,\n",
       " 18: 1,\n",
       " 19: 171,\n",
       " 20: 103,\n",
       " 21: 146,\n",
       " 22: 172,\n",
       " 23: 72,\n",
       " 24: 63,\n",
       " 25: 111,\n",
       " 26: 11,\n",
       " 27: 126,\n",
       " 28: 159,\n",
       " 29: 139,\n",
       " 30: 39,\n",
       " 31: 18,\n",
       " 32: 127,\n",
       " 33: 144,\n",
       " 34: 162,\n",
       " 35: 44,\n",
       " 36: 60,\n",
       " 37: 25,\n",
       " 38: 127,\n",
       " 39: 138,\n",
       " 40: 27,\n",
       " 41: 180,\n",
       " 42: 82,\n",
       " 43: 59,\n",
       " 44: 56,\n",
       " 45: 156,\n",
       " 46: 42,\n",
       " 47: 7,\n",
       " 48: 105,\n",
       " 49: 140,\n",
       " 50: 35,\n",
       " 51: 18,\n",
       " 52: 135,\n",
       " 53: 48,\n",
       " 54: 148,\n",
       " 55: 107,\n",
       " 56: 142,\n",
       " 57: 40,\n",
       " 58: 5,\n",
       " 59: 79,\n",
       " 60: 96,\n",
       " 61: 81,\n",
       " 62: 181,\n",
       " 63: 184,\n",
       " 64: 118,\n",
       " 65: 62,\n",
       " 66: 27,\n",
       " 67: 125,\n",
       " 68: 160,\n",
       " 69: 192,\n",
       " 70: 38,\n",
       " 71: 80,\n",
       " 72: 193,\n",
       " 73: 93,\n",
       " 74: 182,\n",
       " 75: 80,\n",
       " 76: 38,\n",
       " 77: 151,\n",
       " 78: 101,\n",
       " 79: 144,\n",
       " 80: 46,\n",
       " 81: 14,\n",
       " 82: 3,\n",
       " 83: 59,\n",
       " 84: 106,\n",
       " 85: 43,\n",
       " 86: 99,\n",
       " 87: 110,\n",
       " 88: 64,\n",
       " 89: 21,\n",
       " 90: 123,\n",
       " 91: 166,\n",
       " 92: 55,\n",
       " 93: 179,\n",
       " 94: 86,\n",
       " 95: 147,\n",
       " 96: 2,\n",
       " 97: 184,\n",
       " 98: 146,\n",
       " 99: 191,\n",
       " 100: 3,\n",
       " 101: 91,\n",
       " 102: 18,\n",
       " 103: 111,\n",
       " 104: 105,\n",
       " 105: 140,\n",
       " 106: 42,\n",
       " 107: 54,\n",
       " 108: 7,\n",
       " 109: 82,\n",
       " 110: 107,\n",
       " 111: 42,\n",
       " 112: 83,\n",
       " 113: 183,\n",
       " 114: 180,\n",
       " 115: 138,\n",
       " 116: 150,\n",
       " 117: 60,\n",
       " 118: 25,\n",
       " 119: 127,\n",
       " 120: 162,\n",
       " 121: 15,\n",
       " 122: 159,\n",
       " 123: 81,\n",
       " 124: 193,\n",
       " 125: 39,\n",
       " 126: 103,\n",
       " 127: 146,\n",
       " 128: 44,\n",
       " 129: 1,\n",
       " 130: 185,\n",
       " 131: 79,\n",
       " 132: 84,\n",
       " 133: 186,\n",
       " 134: 78,\n",
       " 135: 97,\n",
       " 136: 66,\n",
       " 137: 23,\n",
       " 138: 121,\n",
       " 139: 164,\n",
       " 140: 184,\n",
       " 141: 86,\n",
       " 142: 113,\n",
       " 143: 13,\n",
       " 144: 179,\n",
       " 145: 123,\n",
       " 146: 166,\n",
       " 147: 64,\n",
       " 148: 21,\n",
       " 149: 170,\n",
       " 150: 99,\n",
       " 151: 70,\n",
       " 152: 58,\n",
       " 153: 1,\n",
       " 154: 101,\n",
       " 155: 59,\n",
       " 156: 46,\n",
       " 157: 3,\n",
       " 158: 101,\n",
       " 159: 144,\n",
       " 160: 62,\n",
       " 161: 162,\n",
       " 162: 19,\n",
       " 163: 37,\n",
       " 164: 38,\n",
       " 165: 137,\n",
       " 166: 62,\n",
       " 167: 182,\n",
       " 168: 80,\n",
       " 169: 127,\n",
       " 170: 29,\n",
       " 171: 129,\n",
       " 172: 125,\n",
       " 173: 160,\n",
       " 174: 35,\n",
       " 175: 170,\n",
       " 176: 54,\n",
       " 177: 154,\n",
       " 178: 62,\n",
       " 179: 27,\n",
       " 180: 125,\n",
       " 181: 118,\n",
       " 182: 25,\n",
       " 183: 158,\n",
       " 184: 189,\n",
       " 185: 23,\n",
       " 186: 58,\n",
       " 187: 166,\n",
       " 188: 74,\n",
       " 189: 40,\n",
       " 190: 5,\n",
       " 191: 131,\n",
       " 192: 107,\n",
       " 193: 146,\n",
       " 194: 142,\n",
       " 195: 46,\n",
       " 196: 81,\n",
       " 197: 183,\n",
       " 198: 90,\n",
       " 199: 39,\n",
       " 200: 26,\n",
       " 201: 63,\n",
       " 202: 161,\n",
       " 203: 124,\n",
       " 204: 28,\n",
       " 205: 182,\n",
       " 206: 194,\n",
       " 207: 119,\n",
       " 208: 143,\n",
       " 209: 106,\n",
       " 210: 4,\n",
       " 211: 41,\n",
       " 212: 69,\n",
       " 213: 86,\n",
       " 214: 178,\n",
       " 215: 87,\n",
       " 216: 157,\n",
       " 217: 12,\n",
       " 218: 87,\n",
       " 219: 185,\n",
       " 220: 187,\n",
       " 221: 98,\n",
       " 222: 99,\n",
       " 223: 100,\n",
       " 224: 20,\n",
       " 225: 65,\n",
       " 226: 167,\n",
       " 227: 122,\n",
       " 228: 45,\n",
       " 229: 58,\n",
       " 230: 116,\n",
       " 231: 53,\n",
       " 232: 195,\n",
       " 233: 95,\n",
       " 234: 145,\n",
       " 235: 141,\n",
       " 236: 100,\n",
       " 237: 2,\n",
       " 238: 47,\n",
       " 239: 4,\n",
       " 240: 73,\n",
       " 241: 136,\n",
       " 242: 121,\n",
       " 243: 158,\n",
       " 244: 21,\n",
       " 245: 24,\n",
       " 246: 45,\n",
       " 247: 147,\n",
       " 248: 161,\n",
       " 249: 142,\n",
       " 250: 102,\n",
       " 251: 42,\n",
       " 252: 32,\n",
       " 253: 187,\n",
       " 254: 85,\n",
       " 255: 177,\n",
       " 256: 33,\n",
       " 257: 78,\n",
       " 258: 133,\n",
       " 259: 165,\n",
       " 260: 120,\n",
       " 261: 65,\n",
       " 262: 50,\n",
       " 263: 120,\n",
       " 264: 150,\n",
       " 265: 22,\n",
       " 266: 67,\n",
       " 267: 78,\n",
       " 268: 178,\n",
       " 269: 19,\n",
       " 270: 5,\n",
       " 271: 105,\n",
       " 272: 66,\n",
       " 273: 166,\n",
       " 274: 49,\n",
       " 275: 6,\n",
       " 276: 43,\n",
       " 277: 141,\n",
       " 278: 104,\n",
       " 279: 139,\n",
       " 280: 181,\n",
       " 281: 117,\n",
       " 282: 83,\n",
       " 283: 17,\n",
       " 284: 174,\n",
       " 285: 74,\n",
       " 286: 8,\n",
       " 287: 109,\n",
       " 288: 163,\n",
       " 289: 126,\n",
       " 290: 9,\n",
       " 291: 24,\n",
       " 292: 61,\n",
       " 293: 52,\n",
       " 294: 152,\n",
       " 295: 2,\n",
       " 296: 47,\n",
       " 297: 145,\n",
       " 298: 100,\n",
       " 299: 9,\n",
       " 300: 31,\n",
       " 301: 58,\n",
       " 302: 131,\n",
       " 303: 167,\n",
       " 304: 140,\n",
       " 305: 122,\n",
       " 306: 40,\n",
       " 307: 20,\n",
       " 308: 65,\n",
       " 309: 98,\n",
       " 310: 48,\n",
       " 311: 185,\n",
       " 312: 87,\n",
       " 313: 123,\n",
       " 314: 178,\n",
       " 315: 23,\n",
       " 316: 176,\n",
       " 317: 76,\n",
       " 318: 4,\n",
       " 319: 64,\n",
       " 320: 41,\n",
       " 321: 143,\n",
       " 322: 121,\n",
       " 323: 106,\n",
       " 324: 119,\n",
       " 325: 168,\n",
       " 326: 68,\n",
       " 327: 33,\n",
       " 328: 115,\n",
       " 329: 15,\n",
       " 330: 176,\n",
       " 331: 64,\n",
       " 332: 164,\n",
       " 333: 161,\n",
       " 334: 124,\n",
       " 335: 25,\n",
       " 336: 19,\n",
       " 337: 160,\n",
       " 338: 26,\n",
       " 339: 63,\n",
       " 340: 119,\n",
       " 341: 39,\n",
       " 342: 72,\n",
       " 343: 7,\n",
       " 344: 183,\n",
       " 345: 107,\n",
       " 346: 81,\n",
       " 347: 137,\n",
       " 348: 140,\n",
       " 349: 24,\n",
       " 350: 61,\n",
       " 351: 163,\n",
       " 352: 126,\n",
       " 353: 5,\n",
       " 354: 83,\n",
       " 355: 117,\n",
       " 356: 52,\n",
       " 357: 181,\n",
       " 358: 139,\n",
       " 359: 141,\n",
       " 360: 101,\n",
       " 361: 104,\n",
       " 362: 6,\n",
       " 363: 43,\n",
       " 364: 44,\n",
       " 365: 156,\n",
       " 366: 13,\n",
       " 367: 19,\n",
       " 368: 68,\n",
       " 369: 87,\n",
       " 370: 22,\n",
       " 371: 67,\n",
       " 372: 165,\n",
       " 373: 120,\n",
       " 374: 189,\n",
       " 375: 89,\n",
       " 376: 195,\n",
       " 377: 78,\n",
       " 378: 85,\n",
       " 379: 97,\n",
       " 380: 187,\n",
       " 381: 29,\n",
       " 382: 183,\n",
       " 383: 147,\n",
       " 384: 102,\n",
       " 385: 45,\n",
       " 386: 91,\n",
       " 387: 158,\n",
       " 388: 85,\n",
       " 389: 185,\n",
       " 390: 6,\n",
       " 391: 143,\n",
       " 392: 49,\n",
       " 393: 51,\n",
       " 394: 111,\n",
       " 395: 154,\n",
       " 396: 114,\n",
       " 397: 56,\n",
       " 398: 13,\n",
       " 399: 47,\n",
       " 400: 96,\n",
       " 401: 194,\n",
       " 402: 102,\n",
       " 403: 169,\n",
       " 404: 74,\n",
       " 405: 31,\n",
       " 406: 10,\n",
       " 407: 155,\n",
       " 408: 133,\n",
       " 409: 176,\n",
       " 410: 89,\n",
       " 411: 84,\n",
       " 412: 108,\n",
       " 413: 180,\n",
       " 414: 80,\n",
       " 415: 179,\n",
       " 416: 117,\n",
       " 417: 152,\n",
       " 418: 50,\n",
       " 419: 15,\n",
       " 420: 28,\n",
       " 421: 180,\n",
       " 422: 92,\n",
       " 423: 90,\n",
       " 424: 192,\n",
       " 425: 192,\n",
       " 426: 92,\n",
       " 427: 138,\n",
       " 428: 72,\n",
       " 429: 37,\n",
       " 430: 135,\n",
       " 431: 170,\n",
       " 432: 190,\n",
       " 433: 92,\n",
       " 434: 26,\n",
       " 435: 126,\n",
       " 436: 128,\n",
       " 437: 45,\n",
       " 438: 137,\n",
       " 439: 145,\n",
       " 440: 172,\n",
       " 441: 70,\n",
       " 442: 35,\n",
       " 443: 38,\n",
       " 444: 138,\n",
       " 445: 118,\n",
       " 446: 149,\n",
       " 447: 49,\n",
       " 448: 8,\n",
       " 449: 134,\n",
       " 450: 34,\n",
       " 451: 157,\n",
       " 452: 52,\n",
       " 453: 17,\n",
       " 454: 57,\n",
       " 455: 115,\n",
       " 456: 150,\n",
       " 457: 159,\n",
       " 458: 69,\n",
       " 459: 102,\n",
       " 460: 2,\n",
       " 461: 88,\n",
       " 462: 122,\n",
       " 463: 67,\n",
       " 464: 94,\n",
       " 465: 189,\n",
       " 466: 161,\n",
       " 467: 61,\n",
       " 468: 175,\n",
       " 469: 131,\n",
       " 470: 174,\n",
       " 471: 76,\n",
       " 472: 33,\n",
       " 473: 30,\n",
       " 474: 149,\n",
       " 475: 10,\n",
       " 476: 163,\n",
       " 477: 110,\n",
       " 478: 26,\n",
       " 479: 73,\n",
       " 480: 173,\n",
       " 481: 54,\n",
       " 482: 134,\n",
       " 483: 11,\n",
       " 484: 71,\n",
       " 485: 113,\n",
       " 486: 156,\n",
       " 487: 135,\n",
       " 488: 135,\n",
       " 489: 170,\n",
       " 490: 155,\n",
       " 491: 72,\n",
       " 492: 37,\n",
       " 493: 70,\n",
       " 494: 55,\n",
       " 495: 128,\n",
       " 496: 28,\n",
       " 497: 192,\n",
       " 498: 162,\n",
       " 499: 27,\n",
       " 500: 90,\n",
       " 501: 28,\n",
       " 502: 136,\n",
       " 503: 36,\n",
       " 504: 50,\n",
       " 505: 174,\n",
       " 506: 15,\n",
       " 507: 47,\n",
       " 508: 31,\n",
       " 509: 117,\n",
       " 510: 147,\n",
       " 511: 152,\n",
       " 512: 59,\n",
       " 513: 159,\n",
       " 514: 89,\n",
       " 515: 123,\n",
       " 516: 66,\n",
       " 517: 24,\n",
       " 518: 124,\n",
       " 519: 108,\n",
       " 520: 71,\n",
       " 521: 171,\n",
       " 522: 89,\n",
       " 523: 158,\n",
       " 524: 133,\n",
       " 525: 176,\n",
       " 526: 74,\n",
       " 527: 31,\n",
       " 528: 169,\n",
       " 529: 194,\n",
       " 530: 12,\n",
       " 531: 96,\n",
       " 532: 112,\n",
       " 533: 163,\n",
       " 534: 63,\n",
       " 535: 119,\n",
       " 536: 56,\n",
       " 537: 13,\n",
       " 538: 111,\n",
       " 539: 154,\n",
       " 540: 49,\n",
       " 541: 100,\n",
       " 542: 113,\n",
       " 543: 156,\n",
       " 544: 54,\n",
       " 545: 11,\n",
       " 546: 93,\n",
       " 547: 139,\n",
       " 548: 149,\n",
       " 549: 181,\n",
       " 550: 76,\n",
       " 551: 33,\n",
       " 552: 131,\n",
       " 553: 174,\n",
       " 554: 189,\n",
       " 555: 178,\n",
       " 556: 94,\n",
       " 557: 85,\n",
       " 558: 69,\n",
       " 559: 11,\n",
       " 560: 115,\n",
       " 561: 150,\n",
       " 562: 154,\n",
       " 563: 52,\n",
       " 564: 17,\n",
       " 565: 8,\n",
       " 566: 46,\n",
       " 567: 90,\n",
       " 568: 190,\n",
       " 569: 103,\n",
       " 570: 70,\n",
       " 571: 35,\n",
       " 572: 50,\n",
       " 573: 115,\n",
       " 574: 137,\n",
       " 575: 172,\n",
       " 576: 128,\n",
       " 577: 7,\n",
       " 578: 92,\n",
       " 579: 182,\n",
       " 580: 190,\n",
       " 581: 142,\n",
       " 582: 82,\n",
       " 583: 16,\n",
       " 584: 53,\n",
       " 585: 151,\n",
       " 586: 114,\n",
       " 587: 167,\n",
       " 588: 67,\n",
       " 589: 149,\n",
       " 590: 104,\n",
       " 591: 4,\n",
       " 592: 179,\n",
       " 593: 9,\n",
       " 594: 79,\n",
       " 595: 8,\n",
       " 596: 108,\n",
       " 597: 173,\n",
       " 598: 136,\n",
       " 599: 34,\n",
       " 600: 71,\n",
       " 601: 75,\n",
       " 602: 175,\n",
       " 603: 108,\n",
       " 604: 191,\n",
       " 605: 16,\n",
       " 606: 116,\n",
       " 607: 93,\n",
       " 608: 129,\n",
       " 609: 10,\n",
       " 610: 55,\n",
       " 611: 124,\n",
       " 612: 43,\n",
       " 613: 157,\n",
       " 614: 61,\n",
       " 615: 143,\n",
       " 616: 112,\n",
       " 617: 20,\n",
       " 618: 120,\n",
       " 619: 148,\n",
       " 620: 173,\n",
       " 621: 36,\n",
       " 622: 188,\n",
       " 623: 165,\n",
       " 624: 175,\n",
       " 625: 130,\n",
       " 626: 151,\n",
       " 627: 32,\n",
       " 628: 77,\n",
       " 629: 51,\n",
       " 630: 20,\n",
       " 631: 68,\n",
       " 632: 132,\n",
       " 633: 32,\n",
       " 634: 132,\n",
       " 635: 98,\n",
       " 636: 77,\n",
       " 637: 95,\n",
       " 638: 30,\n",
       " 639: 75,\n",
       " 640: 98,\n",
       " 641: 145,\n",
       " 642: 177,\n",
       " 643: 132,\n",
       " 644: 88,\n",
       " 645: 57,\n",
       " 646: 97,\n",
       " 647: 195,\n",
       " 648: 186,\n",
       " 649: 112,\n",
       " 650: 86,\n",
       " 651: 168,\n",
       " 652: 155,\n",
       " 653: 41,\n",
       " 654: 110,\n",
       " 655: 12,\n",
       " 656: 104,\n",
       " 657: 57,\n",
       " 658: 16,\n",
       " 659: 94,\n",
       " 660: 153,\n",
       " 661: 194,\n",
       " 662: 48,\n",
       " 663: 128,\n",
       " 664: 82,\n",
       " 665: 36,\n",
       " 666: 73,\n",
       " 667: 171,\n",
       " 668: 134,\n",
       " 669: 29,\n",
       " 670: 190,\n",
       " 671: 91,\n",
       " 672: 193,\n",
       " 673: 169,\n",
       " 674: 186,\n",
       " 675: 153,\n",
       " 676: 116,\n",
       " 677: 14,\n",
       " 678: 51,\n",
       " 679: 94,\n",
       " 680: 109,\n",
       " 681: 96,\n",
       " 682: 95,\n",
       " 683: 95,\n",
       " 684: 68,\n",
       " 685: 32,\n",
       " 686: 77,\n",
       " 687: 88,\n",
       " 688: 175,\n",
       " 689: 130,\n",
       " 690: 188,\n",
       " 691: 188,\n",
       " 692: 168,\n",
       " 693: 187,\n",
       " 694: 184,\n",
       " 695: 84,\n",
       " 696: 191,\n",
       " 697: 148,\n",
       " 698: 157,\n",
       " 699: 112,\n",
       " 700: 10,\n",
       " 701: 55,\n",
       " 702: 129,\n",
       " 703: 83,\n",
       " 704: 129,\n",
       " 705: 17,\n",
       " 706: 93,\n",
       " 707: 191,\n",
       " 708: 152,\n",
       " 709: 34,\n",
       " 710: 71,\n",
       " 711: 40,\n",
       " 712: 105,\n",
       " 713: 173,\n",
       " 714: 136,\n",
       " 715: 9,\n",
       " 716: 56,\n",
       " 717: 113,\n",
       " 718: 151,\n",
       " 719: 1,\n",
       " 720: 114,\n",
       " 721: 16,\n",
       " 722: 144,\n",
       " 723: 53,\n",
       " 724: 14,\n",
       " 725: 133,\n",
       " 726: 114,\n",
       " 727: 99,\n",
       " 728: 76,\n",
       " 729: 69,\n",
       " 730: 109,\n",
       " 731: 169,\n",
       " 732: 14,\n",
       " 733: 51,\n",
       " 734: 164,\n",
       " 735: 153,\n",
       " 736: 21,\n",
       " 737: 116,\n",
       " 738: 77,\n",
       " 739: 177,\n",
       " 740: 193,\n",
       " 741: 106,\n",
       " 742: 6,\n",
       " 743: 172,\n",
       " 744: 37,\n",
       " 745: 91,\n",
       " 746: 29,\n",
       " 747: 125,\n",
       " 748: 171,\n",
       " 749: 134,\n",
       " 750: 36,\n",
       " 751: 73,\n",
       " 752: 118,\n",
       " 753: 18,\n",
       " 754: 60,\n",
       " 755: 165,\n",
       " 756: 65,\n",
       " 757: 48,\n",
       " 758: 130,\n",
       " 759: 30,\n",
       " 760: 109,\n",
       " 761: 153,\n",
       " 762: 12,\n",
       " 763: 57,\n",
       " 764: 53,\n",
       " 765: 155,\n",
       " 766: 110,\n",
       " 767: 22,\n",
       " 768: 122,\n",
       " 769: 168,\n",
       " 770: 195,\n",
       " 771: 97,\n",
       " 772: 88,\n",
       " 773: 148,\n",
       " 774: 41,\n",
       " 775: 177,\n",
       " 776: 141,\n",
       " 777: 132,\n",
       " 778: 30,\n",
       " 779: 75}"
      ]
     },
     "execution_count": 69,
     "metadata": {},
     "output_type": "execute_result"
    }
   ],
   "source": [
    "ref"
   ]
  },
  {
   "cell_type": "code",
   "execution_count": 37,
   "metadata": {
    "ExecuteTime": {
     "end_time": "2019-04-08T18:38:39.684247Z",
     "start_time": "2019-04-08T18:38:39.661116Z"
    }
   },
   "outputs": [],
   "source": [
    "knowledges = np.array(knowledges)\n",
    "y = np.arange(780)"
   ]
  },
  {
   "cell_type": "code",
   "execution_count": 30,
   "metadata": {
    "ExecuteTime": {
     "end_time": "2019-04-08T13:30:26.005851Z",
     "start_time": "2019-04-08T13:30:25.999364Z"
    }
   },
   "outputs": [
    {
     "data": {
      "text/plain": [
       "(780, 2622)"
      ]
     },
     "execution_count": 30,
     "metadata": {},
     "output_type": "execute_result"
    }
   ],
   "source": [
    "knowledges.shape"
   ]
  },
  {
   "cell_type": "code",
   "execution_count": 38,
   "metadata": {
    "ExecuteTime": {
     "end_time": "2019-04-08T18:38:46.182237Z",
     "start_time": "2019-04-08T18:38:46.175289Z"
    }
   },
   "outputs": [
    {
     "data": {
      "text/plain": [
       "(780,)"
      ]
     },
     "execution_count": 38,
     "metadata": {},
     "output_type": "execute_result"
    }
   ],
   "source": [
    "y.shape"
   ]
  },
  {
   "cell_type": "code",
   "execution_count": 84,
   "metadata": {
    "ExecuteTime": {
     "end_time": "2019-04-08T19:24:10.474083Z",
     "start_time": "2019-04-08T19:24:10.453373Z"
    }
   },
   "outputs": [],
   "source": [
    "X_train, X_test, y_train, y_test = train_test_split(knowledges, y,test_size=0.2,random_state=50)"
   ]
  },
  {
   "cell_type": "code",
   "execution_count": 85,
   "metadata": {
    "ExecuteTime": {
     "end_time": "2019-04-08T19:24:13.920338Z",
     "start_time": "2019-04-08T19:24:13.908158Z"
    }
   },
   "outputs": [
    {
     "data": {
      "text/plain": [
       "(624, 2622)"
      ]
     },
     "execution_count": 85,
     "metadata": {},
     "output_type": "execute_result"
    }
   ],
   "source": [
    "X_train.shape"
   ]
  },
  {
   "cell_type": "code",
   "execution_count": 101,
   "metadata": {
    "ExecuteTime": {
     "end_time": "2019-04-08T19:26:29.194994Z",
     "start_time": "2019-04-08T19:26:28.018179Z"
    }
   },
   "outputs": [],
   "source": [
    "dtype = [('distance', float), ('index', int)]\n",
    "m = 0\n",
    "acc = 0\n",
    "for test in X_test:\n",
    "    dist = []\n",
    "    n = 0\n",
    "    for train in X_train:\n",
    "        dist.append((LA.norm(test - train),n))\n",
    "        n+=1\n",
    "    a = np.array(dist,dtype=dtype)\n",
    "    a = np.sort(a,order='distance')[0:30]\n",
    "    for each in a :\n",
    "        if ref.get(each[1]) == ref.get(y[m]):\n",
    "            acc+=1\n",
    "    m+=1"
   ]
  },
  {
   "cell_type": "code",
   "execution_count": 80,
   "metadata": {
    "ExecuteTime": {
     "end_time": "2019-04-08T19:23:04.232765Z",
     "start_time": "2019-04-08T19:23:04.227349Z"
    }
   },
   "outputs": [
    {
     "data": {
      "text/plain": [
       "array([(16.78728867, 213), (25.42363548, 460), (25.82349968, 369),\n",
       "       (26.58436394, 322), (27.67225647, 342)],\n",
       "      dtype=[('distance', '<f8'), ('index', '<i8')])"
      ]
     },
     "execution_count": 80,
     "metadata": {},
     "output_type": "execute_result"
    }
   ],
   "source": [
    "a"
   ]
  },
  {
   "cell_type": "code",
   "execution_count": 105,
   "metadata": {
    "ExecuteTime": {
     "end_time": "2019-04-08T19:32:10.877717Z",
     "start_time": "2019-04-08T19:32:10.869503Z"
    }
   },
   "outputs": [],
   "source": [
    "from scipy.spatial.distance import cosine"
   ]
  },
  {
   "cell_type": "code",
   "execution_count": 108,
   "metadata": {
    "ExecuteTime": {
     "end_time": "2019-04-08T19:33:22.798790Z",
     "start_time": "2019-04-08T19:33:14.815670Z"
    }
   },
   "outputs": [
    {
     "name": "stdout",
     "output_type": "stream",
     "text": [
      "0\n"
     ]
    }
   ],
   "source": [
    "dtype = [('cos', float), ('index', int)]\n",
    "m = 0\n",
    "acc_cos = 0\n",
    "for test in X_test:\n",
    "    dist = []\n",
    "    n = 0\n",
    "    for train in X_train:\n",
    "        dist.append((cosine(test,train),n))\n",
    "        n+=1\n",
    "    a = np.array(dist,dtype=dtype)\n",
    "    a = np.sort(a,order='cos')[0:50]\n",
    "    for each in a :\n",
    "        if ref.get(each[1]) == ref.get(y[m]):\n",
    "            acc+=1\n",
    "    m+=1\n",
    "print(acc_cos)"
   ]
  },
  {
   "cell_type": "code",
   "execution_count": 107,
   "metadata": {
    "ExecuteTime": {
     "end_time": "2019-04-08T19:32:58.451426Z",
     "start_time": "2019-04-08T19:32:58.442815Z"
    }
   },
   "outputs": [
    {
     "data": {
      "text/plain": [
       "array([(0.03179526, 213), (0.07034123, 460), (0.07053202, 322),\n",
       "       (0.07186782, 369), (0.07734919, 140), (0.07760042, 344),\n",
       "       (0.08542949,  95), (0.08627975,  34), (0.08637601, 558),\n",
       "       (0.08864999, 342), (0.08915257, 262), (0.09195572, 305),\n",
       "       (0.09519541, 110), (0.09788543, 243), (0.09805852, 339),\n",
       "       (0.1020422 ,  80), (0.10244071, 497), (0.10271412, 387),\n",
       "       (0.10489291, 320), (0.10503322,  10)],\n",
       "      dtype=[('cos', '<f8'), ('index', '<i8')])"
      ]
     },
     "execution_count": 107,
     "metadata": {},
     "output_type": "execute_result"
    }
   ],
   "source": [
    "a"
   ]
  },
  {
   "cell_type": "code",
   "execution_count": null,
   "metadata": {},
   "outputs": [],
   "source": []
  },
  {
   "cell_type": "code",
   "execution_count": 21,
   "metadata": {
    "ExecuteTime": {
     "end_time": "2019-04-08T04:36:51.222416Z",
     "start_time": "2019-04-08T04:36:51.206110Z"
    }
   },
   "outputs": [],
   "source": [
    "epsilon = 0.20\n",
    "\n",
    "def verifyEar(img1, img2):\n",
    "    img1_representation = vgg_ear_descriptor.predict(preprocess_image('Cropped/%s' % (img1)))[0,:]\n",
    "    img2_representation = vgg_ear_descriptor.predict(preprocess_image('Cropped/%s' % (img2)))[0,:]\n",
    "    \n",
    "    cosine_similarity = findCosineSimilarity(img1_representation, img2_representation)\n",
    "    euclidean_distance = findEuclideanDistance(img1_representation, img2_representation)\n",
    "    \n",
    "    print(\"Cosine similarity: \",cosine_similarity)\n",
    "    print(\"Euclidean distance: \",euclidean_distance)\n",
    "    \n",
    "    if(cosine_similarity < epsilon):\n",
    "        print(\"verified... they are same person\")\n",
    "    else:\n",
    "        print(\"unverified! they are not same person!\")\n",
    "    \n",
    "    f = plt.figure()\n",
    "    f.add_subplot(1,2, 1)\n",
    "    plt.imshow(image.load_img('Cropped/%s' % (img1)))\n",
    "    plt.xticks([]); plt.yticks([])\n",
    "    f.add_subplot(1,2, 2)\n",
    "    plt.imshow(image.load_img('Cropped/%s' % (img2)))\n",
    "    plt.xticks([]); plt.yticks([])\n",
    "    plt.show(block=True)\n",
    "    print(\"-----------------------------------------\")"
   ]
  },
  {
   "cell_type": "code",
   "execution_count": 23,
   "metadata": {
    "ExecuteTime": {
     "end_time": "2019-04-08T04:36:57.658532Z",
     "start_time": "2019-04-08T04:36:56.233833Z"
    }
   },
   "outputs": [
    {
     "name": "stdout",
     "output_type": "stream",
     "text": [
      "Cosine similarity:  0.24004191160202026\n",
      "Euclidean distance:  49.301937\n",
      "unverified! they are not same person!\n"
     ]
    },
    {
     "data": {
      "image/png": "[encoded data removed]",
      "text/plain": [
       "<Figure size 432x288 with 2 Axes>"
      ]
     },
     "metadata": {},
     "output_type": "display_data"
    },
    {
     "name": "stdout",
     "output_type": "stream",
     "text": [
      "-----------------------------------------\n"
     ]
    }
   ],
   "source": [
    "verifyEar(\"001_.jpg\", \"005_dt.jpg\")"
   ]
  }
 ],
 "metadata": {
  "kernelspec": {
   "display_name": "Python 3",
   "language": "python",
   "name": "python3"
  },
  "language_info": {
   "codemirror_mode": {
    "name": "ipython",
    "version": 3
   },
   "file_extension": ".py",
   "mimetype": "text/x-python",
   "name": "python",
   "nbconvert_exporter": "python",
   "pygments_lexer": "ipython3",
   "version": "3.6.5"
  },
  "toc": {
   "base_numbering": 1,
   "nav_menu": {},
   "number_sections": true,
   "sideBar": true,
   "skip_h1_title": false,
   "title_cell": "Table of Contents",
   "title_sidebar": "Contents",
   "toc_cell": false,
   "toc_position": {},
   "toc_section_display": true,
   "toc_window_display": false
  },
  "varInspector": {
   "cols": {
    "lenName": 16,
    "lenType": 16,
    "lenVar": 40
   },
   "kernels_config": {
    "python": {
     "delete_cmd_postfix": "",
     "delete_cmd_prefix": "del ",
     "library": "var_list.py",
     "varRefreshCmd": "print(var_dic_list())"
    },
    "r": {
     "delete_cmd_postfix": ") ",
     "delete_cmd_prefix": "rm(",
     "library": "var_list.r",
     "varRefreshCmd": "cat(var_dic_list()) "
    }
   },
   "types_to_exclude": [
    "module",
    "function",
    "builtin_function_or_method",
    "instance",
    "_Feature"
   ],
   "window_display": false
  }
 },
 "nbformat": 4,
 "nbformat_minor": 2
}
