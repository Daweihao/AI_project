{
 "cells": [
  {
   "cell_type": "code",
   "execution_count": 2,
   "metadata": {
    "ExecuteTime": {
     "end_time": "2019-04-11T20:44:27.237707Z",
     "start_time": "2019-04-11T20:44:27.100685Z"
    }
   },
   "outputs": [],
   "source": [
    "import os\n",
    "import cv2\n",
    "import numpy as np"
   ]
  },
  {
   "cell_type": "code",
   "execution_count": 5,
   "metadata": {
    "ExecuteTime": {
     "end_time": "2019-04-12T02:14:16.481600Z",
     "start_time": "2019-04-12T02:13:13.838284Z"
    }
   },
   "outputs": [
    {
     "name": "stdout",
     "output_type": "stream",
     "text": [
      "['099_dt_0.jpg', '098_dt_0.jpg', '047_t_0.jpg', '172__1.jpg', '057_t_0.jpg', '072__1.jpg', '143_d_0.jpg', '103_dt_0.jpg', '027__0.jpg', '102_dt_0.jpg', '153_d_0.jpg', '127__0.jpg', '044__0.jpg', '175_dt_1.jpg', '172_t_1.jpg', '186_t_0.jpg', '144__0.jpg', '162_t_1.jpg', '174_dt_1.jpg', '111__1.jpg', '191_dt_0.jpg', '076_d_1.jpg', '082_d_0.jpg', '190_dt_0.jpg', '011__1.jpg', '066_d_1.jpg', '092_d_0.jpg', '039__0.jpg', '139__0.jpg', '148__0.jpg', '048__0.jpg', '060__1.jpg', '014_d_1.jpg', '160__1.jpg', '188_d_0.jpg', '004_d_1.jpg', '068_t_1.jpg', '135__0.jpg', '034_dt_1.jpg', '110_t_1.jpg', '035_dt_1.jpg', '078_t_1.jpg', '035__0.jpg', '100_t_1.jpg', '121_d_0.jpg', '156__0.jpg', '042_dt_0.jpg', '059_d_0.jpg', '131_d_0.jpg', '049_d_0.jpg', '043_dt_0.jpg', '056__0.jpg', '025_t_0.jpg', '003__1.jpg', '035_t_0.jpg', '103__1.jpg', '035_t_1.jpg', '103__0.jpg', '025_t_1.jpg', '003__0.jpg', '131_d_1.jpg', '056__1.jpg', '043_dt_1.jpg', '049_d_1.jpg', '121_d_1.jpg', '059_d_1.jpg', '042_dt_1.jpg', '156__1.jpg', '035__1.jpg', '078_t_0.jpg', '035_dt_0.jpg', '100_t_0.jpg', '034_dt_0.jpg', '135__1.jpg', '068_t_0.jpg', '110_t_0.jpg', '188_d_1.jpg', '160__0.jpg', '004_d_0.jpg', '060__0.jpg', '014_d_0.jpg', '048__1.jpg', '148__1.jpg', '139__1.jpg', '039__1.jpg', '011__0.jpg', '190_dt_1.jpg', '066_d_0.jpg', '092_d_1.jpg', '191_dt_1.jpg', '111__0.jpg', '076_d_0.jpg', '082_d_1.jpg', '144__1.jpg', '174_dt_0.jpg', '162_t_0.jpg', '044__1.jpg', '172_t_0.jpg', '186_t_1.jpg', '175_dt_0.jpg', '153_d_1.jpg', '102_dt_1.jpg', '127__1.jpg', '103_dt_1.jpg', '143_d_1.jpg', '027__1.jpg', '057_t_1.jpg', '072__0.jpg', '047_t_1.jpg', '172__0.jpg', '098_dt_1.jpg', '099_dt_1.jpg', '136_dt_1.jpg', '137_dt_1.jpg', '175_d_1.jpg', '181_d_0.jpg', '048_dt_0.jpg', '165_d_1.jpg', '191_d_0.jpg', '049_dt_0.jpg', '071_t_1.jpg', '085_t_0.jpg', '109_t_1.jpg', '061_t_1.jpg', '095_t_0.jpg', '119_t_1.jpg', '138_d_0.jpg', '040_d_0.jpg', '128_d_0.jpg', '050_d_0.jpg', '144_t_0.jpg', '193__1.jpg', '093__1.jpg', '154_t_0.jpg', '140_dt_0.jpg', '141_dt_0.jpg', '001_dt_0.jpg', '126_t_0.jpg', '136_t_0.jpg', '022_d_0.jpg', '032_d_0.jpg', '013_t_1.jpg', '003_t_1.jpg', '117_d_1.jpg', '081__1.jpg', '109_dt_0.jpg', '181__1.jpg', '108_dt_0.jpg', '107_d_1.jpg', '077_dt_1.jpg', '076_dt_1.jpg', '093_dt_0.jpg', '092_dt_0.jpg', '092_dt_1.jpg', '093_dt_1.jpg', '076_dt_0.jpg', '077_dt_0.jpg', '107_d_0.jpg', '108_dt_1.jpg', '181__0.jpg', '109_dt_1.jpg', '081__0.jpg', '117_d_0.jpg', '003_t_0.jpg', '013_t_0.jpg', '032_d_1.jpg', '022_d_1.jpg', '136_t_1.jpg', '126_t_1.jpg', '001_dt_1.jpg', '141_dt_1.jpg', '140_dt_1.jpg', '154_t_1.jpg', '093__0.jpg', '193__0.jpg', '144_t_1.jpg', '128_d_1.jpg', '050_d_1.jpg', '138_d_1.jpg', '040_d_1.jpg', '061_t_0.jpg', '095_t_1.jpg', '119_t_0.jpg', '071_t_0.jpg', '085_t_1.jpg', '109_t_0.jpg', '165_d_0.jpg', '191_d_1.jpg', '049_dt_1.jpg', '175_d_0.jpg', '181_d_1.jpg', '048_dt_1.jpg', '137_dt_0.jpg', '136_dt_0.jpg', '155_t_0.jpg', '083__1.jpg', '183__1.jpg', '145_t_0.jpg', '051_d_0.jpg', '055_dt_0.jpg', '129_d_0.jpg', '041_d_0.jpg', '139_d_0.jpg', '054_dt_0.jpg', '118_t_1.jpg', '023_dt_1.jpg', '060_t_1.jpg', '094_t_0.jpg', '022_dt_1.jpg', '108_t_1.jpg', '070_t_1.jpg', '084_t_0.jpg', '164_d_1.jpg', '190_d_0.jpg', '174_d_1.jpg', '180_d_0.jpg', '186_dt_0.jpg', '191__1.jpg', '106_d_1.jpg', '187_dt_0.jpg', '116_d_1.jpg', '091__1.jpg', '162_dt_1.jpg', '002_t_1.jpg', '012_t_1.jpg', '163_dt_1.jpg', '.DS_Store', '033_d_0.jpg', '114_dt_0.jpg', '115_dt_0.jpg', '023_d_0.jpg', '137_t_0.jpg', '127_t_0.jpg', '127_t_1.jpg', '137_t_1.jpg', '023_d_1.jpg', '115_dt_1.jpg', '114_dt_1.jpg', '033_d_1.jpg', '163_dt_0.jpg', '012_t_0.jpg', '002_t_0.jpg', '162_dt_0.jpg', '187_dt_1.jpg', '091__0.jpg', '116_d_0.jpg', '186_dt_1.jpg', '106_d_0.jpg', '191__0.jpg', '174_d_0.jpg', '180_d_1.jpg', '164_d_0.jpg', '190_d_1.jpg', '108_t_0.jpg', '022_dt_0.jpg', '070_t_0.jpg', '084_t_1.jpg', '023_dt_0.jpg', '118_t_0.jpg', '060_t_0.jpg', '094_t_1.jpg', '041_d_1.jpg', '054_dt_1.jpg', '139_d_1.jpg', '051_d_1.jpg', '129_d_1.jpg', '055_dt_1.jpg', '145_t_1.jpg', '183__0.jpg', '083__0.jpg', '155_t_1.jpg', '067_d_1.jpg', '093_d_0.jpg', '001__1.jpg', '077_d_1.jpg', '083_d_0.jpg', '101__1.jpg', '163_t_1.jpg', '154__0.jpg', '173_t_1.jpg', '187_t_0.jpg', '054__0.jpg', '084_dt_0.jpg', '085_dt_0.jpg', '060_dt_1.jpg', '129__0.jpg', '061_dt_1.jpg', '029__0.jpg', '016_dt_0.jpg', '017_dt_0.jpg', '137__0.jpg', '152_d_0.jpg', '037__0.jpg', '142_d_0.jpg', '062__1.jpg', '168_dt_1.jpg', '056_t_0.jpg', '162__1.jpg', '046_t_0.jpg', '169_dt_1.jpg', '113__1.jpg', '029_dt_1.jpg', '034_t_0.jpg', '028_dt_1.jpg', '013__1.jpg', '024_t_0.jpg', '048_d_0.jpg', '046__0.jpg', '130_d_0.jpg', '146__0.jpg', '058_d_0.jpg', '120_d_0.jpg', '157_dt_0.jpg', '156_dt_0.jpg', '121_dt_1.jpg', '058__0.jpg', '120_dt_1.jpg', '158__0.jpg', '101_t_1.jpg', '025__0.jpg', '079_t_1.jpg', '111_t_1.jpg', '125__0.jpg', '069_t_1.jpg', '005_d_1.jpg', '170__1.jpg', '189_d_0.jpg', '015_d_1.jpg', '070__1.jpg', '015_d_0.jpg', '070__0.jpg', '005_d_0.jpg', '189_d_1.jpg', '170__0.jpg', '111_t_0.jpg', '069_t_0.jpg', '125__1.jpg', '101_t_0.jpg', '079_t_0.jpg', '025__1.jpg', '120_dt_0.jpg', '158__1.jpg', '121_dt_0.jpg', '058__1.jpg', '156_dt_1.jpg', '157_dt_1.jpg', '058_d_1.jpg', '146__1.jpg', '120_d_1.jpg', '046__1.jpg', '048_d_1.jpg', '130_d_1.jpg', '013__0.jpg', '028_dt_0.jpg', '024_t_1.jpg', '029_dt_0.jpg', '113__0.jpg', '034_t_1.jpg', '162__0.jpg', '169_dt_0.jpg', '046_t_1.jpg', '062__0.jpg', '056_t_1.jpg', '168_dt_0.jpg', '037__1.jpg', '142_d_1.jpg', '137__1.jpg', '152_d_1.jpg', '017_dt_1.jpg', '016_dt_1.jpg', '029__1.jpg', '061_dt_0.jpg', '129__1.jpg', '060_dt_0.jpg', '085_dt_1.jpg', '084_dt_1.jpg', '173_t_0.jpg', '187_t_1.jpg', '054__1.jpg', '163_t_0.jpg', '154__1.jpg', '077_d_0.jpg', '083_d_1.jpg', '101__0.jpg', '067_d_0.jpg', '093_d_1.jpg', '001__0.jpg', '099__0.jpg', '024_dt_1.jpg', '168_t_1.jpg', '010_t_1.jpg', '178_t_1.jpg', '025_dt_1.jpg', '098_d_0.jpg', '114_d_1.jpg', '088_d_0.jpg', '104_d_1.jpg', '125_t_0.jpg', '135_t_0.jpg', '021_d_0.jpg', '187__0.jpg', '159_d_0.jpg', '052_dt_0.jpg', '087__0.jpg', '031_d_0.jpg', '053_dt_0.jpg', '149_d_0.jpg', '089_dt_0.jpg', '088_dt_0.jpg', '113_dt_0.jpg', '043_d_0.jpg', '053_d_0.jpg', '112_dt_0.jpg', '147_t_0.jpg', '157_t_0.jpg', '181_dt_0.jpg', '176_d_1.jpg', '182_d_0.jpg', '180_dt_0.jpg', '166_d_1.jpg', '192_d_0.jpg', '072_t_1.jpg', '086_t_0.jpg', '095__0.jpg', '165_dt_1.jpg', '164_dt_1.jpg', '062_t_1.jpg', '096_t_0.jpg', '195__0.jpg', '195__1.jpg', '062_t_0.jpg', '096_t_1.jpg', '164_dt_0.jpg', '165_dt_0.jpg', '095__1.jpg', '072_t_0.jpg', '086_t_1.jpg', '180_dt_1.jpg', '166_d_0.jpg', '192_d_1.jpg', '181_dt_1.jpg', '176_d_0.jpg', '182_d_1.jpg', '157_t_1.jpg', '147_t_1.jpg', '112_dt_1.jpg', '053_d_1.jpg', '043_d_1.jpg', '113_dt_1.jpg', '088_dt_1.jpg', '089_dt_1.jpg', '031_d_1.jpg', '087__1.jpg', '149_d_1.jpg', '053_dt_1.jpg', '187__1.jpg', '021_d_1.jpg', '052_dt_1.jpg', '159_d_1.jpg', '135_t_1.jpg', '125_t_1.jpg', '088_d_1.jpg', '104_d_0.jpg', '098_d_1.jpg', '114_d_0.jpg', '025_dt_0.jpg', '178_t_0.jpg', '168_t_0.jpg', '024_dt_0.jpg', '010_t_0.jpg', '099__1.jpg', '011_dt_0.jpg', '010_dt_0.jpg', '166__0.jpg', '122_d_0.jpg', '066__0.jpg', '132_d_0.jpg', '033__1.jpg', '026_t_0.jpg', '133__1.jpg', '036_t_0.jpg', '119_dt_0.jpg', '017_d_1.jpg', '050__1.jpg', '007_d_1.jpg', '118_dt_0.jpg', '150__1.jpg', '113_t_1.jpg', '105__0.jpg', '103_t_1.jpg', '005__0.jpg', '083_dt_0.jpg', '082_dt_0.jpg', '067_dt_1.jpg', '178__0.jpg', '078__0.jpg', '066_dt_1.jpg', '126_dt_1.jpg', '009__0.jpg', '127_dt_1.jpg', '109__0.jpg', '171_t_1.jpg', '185_t_0.jpg', '009_t_1.jpg', '074__0.jpg', '161_t_1.jpg', '195_t_0.jpg', '174__0.jpg', '019_t_1.jpg', '075_d_1.jpg', '081_d_0.jpg', '058_dt_0.jpg', '121__1.jpg', '065_d_1.jpg', '091_d_0.jpg', '021__1.jpg', '059_dt_0.jpg', '142__1.jpg', '044_t_0.jpg', '042__1.jpg', '054_t_0.jpg', '017__0.jpg', '038_d_0.jpg', '140_d_0.jpg', '028_d_0.jpg', '117__0.jpg', '150_d_0.jpg', '150_dt_0.jpg', '151_dt_0.jpg', '151_dt_1.jpg', '150_dt_1.jpg', '117__1.jpg', '028_d_1.jpg', '150_d_1.jpg', '038_d_1.jpg', '017__1.jpg', '140_d_1.jpg', '042__0.jpg', '054_t_1.jpg', '142__0.jpg', '044_t_1.jpg', '065_d_0.jpg', '091_d_1.jpg', '059_dt_1.jpg', '021__0.jpg', '075_d_0.jpg', '081_d_1.jpg', '121__0.jpg', '058_dt_1.jpg', '161_t_0.jpg', '195_t_1.jpg', '019_t_0.jpg', '174__1.jpg', '171_t_0.jpg', '185_t_1.jpg', '074__1.jpg', '009_t_0.jpg', '127_dt_0.jpg', '109__1.jpg', '126_dt_0.jpg', '009__1.jpg', '066_dt_0.jpg', '078__1.jpg', '178__1.jpg', '067_dt_0.jpg', '082_dt_1.jpg', '083_dt_1.jpg', '103_t_0.jpg', '005__1.jpg', '113_t_0.jpg', '105__1.jpg', '118_dt_1.jpg', '007_d_0.jpg', '150__0.jpg', '017_d_0.jpg', '119_dt_1.jpg', '050__0.jpg', '133__0.jpg', '036_t_1.jpg', '033__0.jpg', '026_t_1.jpg', '066__1.jpg', '132_d_1.jpg', '166__1.jpg', '122_d_1.jpg', '010_dt_1.jpg', '011_dt_1.jpg', '015__0.jpg', '102_t_1.jpg', '172_dt_1.jpg', '115__0.jpg', '173_dt_1.jpg', '112_t_1.jpg', '140__1.jpg', '006_d_1.jpg', '040__1.jpg', '016_d_1.jpg', '068__0.jpg', '168__0.jpg', '037_t_0.jpg', '123__1.jpg', '027_t_0.jpg', '023__1.jpg', '104_dt_0.jpg', '133_d_0.jpg', '076__0.jpg', '123_d_0.jpg', '105_dt_0.jpg', '176__0.jpg', '151_d_0.jpg', '029_d_0.jpg', '045_dt_0.jpg', '107__0.jpg', '141_d_0.jpg', '044_dt_0.jpg', '007__0.jpg', '039_d_0.jpg', '055_t_0.jpg', '052__1.jpg', '045_t_0.jpg', '152__1.jpg', '119__0.jpg', '019__0.jpg', '031__1.jpg', '064_d_1.jpg', '090_d_0.jpg', '131__1.jpg', '074_d_1.jpg', '080_d_0.jpg', '033_dt_1.jpg', '018_t_1.jpg', '164__0.jpg', '160_t_1.jpg', '194_t_0.jpg', '064__0.jpg', '008_t_1.jpg', '032_dt_1.jpg', '170_t_1.jpg', '184_t_0.jpg', '032_dt_0.jpg', '008_t_0.jpg', '064__1.jpg', '170_t_0.jpg', '184_t_1.jpg', '164__1.jpg', '018_t_0.jpg', '033_dt_0.jpg', '160_t_0.jpg', '194_t_1.jpg', '131__0.jpg', '074_d_0.jpg', '080_d_1.jpg', '031__0.jpg', '064_d_0.jpg', '090_d_1.jpg', '019__1.jpg', '119__1.jpg', '045_t_1.jpg', '152__0.jpg', '055_t_1.jpg', '052__0.jpg', '141_d_1.jpg', '039_d_1.jpg', '007__1.jpg', '044_dt_1.jpg', '151_d_1.jpg', '107__1.jpg', '045_dt_1.jpg', '029_d_1.jpg', '105_dt_1.jpg', '123_d_1.jpg', '176__1.jpg', '133_d_1.jpg', '104_dt_1.jpg', '076__1.jpg', '027_t_1.jpg', '023__0.jpg', '037_t_1.jpg', '123__0.jpg', '168__1.jpg', '068__1.jpg', '040__0.jpg', '016_d_0.jpg', '140__0.jpg', '006_d_0.jpg', '115__1.jpg', '112_t_0.jpg', '173_dt_0.jpg', '015__1.jpg', '172_dt_0.jpg', '102_t_0.jpg', '148_d_0.jpg', '097__0.jpg', '030_d_0.jpg', '158_d_0.jpg', '020_d_0.jpg', '039_dt_1.jpg', '134_t_0.jpg', '038_dt_1.jpg', '124_t_0.jpg', '147_dt_0.jpg', '146_dt_0.jpg', '131_dt_1.jpg', '089__0.jpg', '189__0.jpg', '130_dt_1.jpg', '105_d_1.jpg', '089_d_0.jpg', '115_d_1.jpg', '099_d_0.jpg', '001_t_1.jpg', '179_t_1.jpg', '011_t_1.jpg', '169_t_1.jpg', '185__0.jpg', '063_t_1.jpg', '097_t_0.jpg', '085__0.jpg', '073_t_1.jpg', '087_t_0.jpg', '167_d_1.jpg', '193_d_0.jpg', '177_d_1.jpg', '183_d_0.jpg', '070_dt_1.jpg', '071_dt_1.jpg', '094_dt_0.jpg', '095_dt_0.jpg', '006_dt_0.jpg', '007_dt_0.jpg', '156_t_0.jpg', '178_dt_1.jpg', '179_dt_1.jpg', '146_t_0.jpg', '052_d_0.jpg', '042_d_0.jpg', '042_d_1.jpg', '052_d_1.jpg', '146_t_1.jpg', '179_dt_0.jpg', '178_dt_0.jpg', '156_t_1.jpg', '007_dt_1.jpg', '006_dt_1.jpg', '095_dt_1.jpg', '094_dt_1.jpg', '071_dt_0.jpg', '070_dt_0.jpg', '177_d_0.jpg', '183_d_1.jpg', '167_d_0.jpg', '193_d_1.jpg', '073_t_0.jpg', '087_t_1.jpg', '085__1.jpg', '063_t_0.jpg', '097_t_1.jpg', '185__1.jpg', '011_t_0.jpg', '169_t_0.jpg', '001_t_0.jpg', '179_t_0.jpg', '115_d_0.jpg', '099_d_1.jpg', '105_d_0.jpg', '089_d_1.jpg', '130_dt_0.jpg', '189__1.jpg', '089__1.jpg', '131_dt_0.jpg', '146_dt_1.jpg', '147_dt_1.jpg', '038_dt_0.jpg', '124_t_1.jpg', '039_dt_0.jpg', '134_t_1.jpg', '158_d_1.jpg', '020_d_1.jpg', '148_d_1.jpg', '030_d_1.jpg', '097__1.jpg', '087_dt_0.jpg', '086_dt_0.jpg', '063_dt_1.jpg', '062_dt_1.jpg', '057_d_1.jpg', '047_d_1.jpg', '153_t_1.jpg', '143_t_1.jpg', '080__0.jpg', '162_d_0.jpg', '172_d_0.jpg', '186_d_1.jpg', '180__0.jpg', '066_t_0.jpg', '092_t_1.jpg', '076_t_0.jpg', '082_t_1.jpg', '015_dt_0.jpg', '014_dt_0.jpg', '154_dt_0.jpg', '155_dt_0.jpg', '004_t_0.jpg', '188_t_1.jpg', '014_t_0.jpg', '100_d_0.jpg', '078_d_0.jpg', '110_d_0.jpg', '068_d_0.jpg', '049_t_1.jpg', '192__0.jpg', '131_t_1.jpg', '059_t_1.jpg', '092__0.jpg', '121_t_1.jpg', '035_d_1.jpg', '025_d_1.jpg', '122_dt_1.jpg', '123_dt_1.jpg', '123_dt_0.jpg', '122_dt_0.jpg', '025_d_0.jpg', '035_d_0.jpg', '059_t_0.jpg', '121_t_0.jpg', '092__1.jpg', '049_t_0.jpg', '131_t_0.jpg', '192__1.jpg', '110_d_1.jpg', '068_d_1.jpg', '100_d_1.jpg', '078_d_1.jpg', '014_t_1.jpg', '004_t_1.jpg', '188_t_0.jpg', '155_dt_1.jpg', '154_dt_1.jpg', '014_dt_1.jpg', '015_dt_1.jpg', '076_t_1.jpg', '082_t_0.jpg', '066_t_1.jpg', '092_t_0.jpg', '180__1.jpg', '172_d_1.jpg', '186_d_0.jpg', '162_d_1.jpg', '080__1.jpg', '143_t_0.jpg', '153_t_0.jpg', '047_d_0.jpg', '057_d_0.jpg', '062_dt_0.jpg', '063_dt_0.jpg', '086_dt_1.jpg', '087_dt_1.jpg', '149__1.jpg', '128_dt_1.jpg', '049__1.jpg', '129_dt_1.jpg', '134__1.jpg', '165_t_0.jpg', '191_t_1.jpg', '034__1.jpg', '175_t_0.jpg', '181_t_1.jpg', '056_dt_0.jpg', '061__0.jpg', '119_d_0.jpg', '061_d_0.jpg', '095_d_1.jpg', '109_d_0.jpg', '161__0.jpg', '057_dt_0.jpg', '071_d_0.jpg', '085_d_1.jpg', '050_t_1.jpg', '002__0.jpg', '128_t_1.jpg', '020_dt_1.jpg', '040_t_1.jpg', '021_dt_1.jpg', '102__0.jpg', '138_t_1.jpg', '154_d_1.jpg', '157__1.jpg', '144_d_1.jpg', '057__1.jpg', '136_d_1.jpg', '026__1.jpg', '185_dt_0.jpg', '126_d_1.jpg', '184_dt_0.jpg', '126__1.jpg', '161_dt_1.jpg', '032_t_1.jpg', '173__0.jpg', '022_t_1.jpg', '160_dt_1.jpg', '073__0.jpg', '110__0.jpg', '003_d_0.jpg', '117_dt_0.jpg', '010__0.jpg', '116_dt_0.jpg', '013_d_0.jpg', '045__1.jpg', '107_t_0.jpg', '145__1.jpg', '117_t_0.jpg', '069_dt_1.jpg', '038__1.jpg', '138__1.jpg', '068_dt_1.jpg', '068_dt_0.jpg', '138__0.jpg', '038__0.jpg', '069_dt_0.jpg', '145__0.jpg', '117_t_1.jpg', '045__0.jpg', '107_t_1.jpg', '010__1.jpg', '013_d_1.jpg', '116_dt_1.jpg', '110__1.jpg', '117_dt_1.jpg', '003_d_1.jpg', '160_dt_0.jpg', '022_t_0.jpg', '073__1.jpg', '032_t_0.jpg', '161_dt_0.jpg', '173__1.jpg', '126_d_0.jpg', '126__0.jpg', '184_dt_1.jpg', '136_d_0.jpg', '185_dt_1.jpg', '026__0.jpg', '144_d_0.jpg', '057__0.jpg', '154_d_0.jpg', '157__0.jpg', '040_t_0.jpg', '138_t_0.jpg', '102__1.jpg', '021_dt_0.jpg', '050_t_0.jpg', '020_dt_0.jpg', '128_t_0.jpg', '002__1.jpg', '057_dt_1.jpg', '161__1.jpg', '109_d_1.jpg', '071_d_1.jpg', '085_d_0.jpg', '119_d_1.jpg', '061__1.jpg', '056_dt_1.jpg', '061_d_1.jpg', '095_d_0.jpg', '034__0.jpg', '175_t_1.jpg', '181_t_0.jpg', '134__0.jpg', '165_t_1.jpg', '191_t_0.jpg', '049__0.jpg', '129_dt_0.jpg', '149__0.jpg', '128_dt_0.jpg', '047__1.jpg', '145_d_1.jpg', '147__1.jpg', '155_d_1.jpg', '139_t_1.jpg', '112__0.jpg', '041_t_1.jpg', '129_t_1.jpg', '012__0.jpg', '051_t_1.jpg', '135_dt_1.jpg', '134_dt_1.jpg', '143_dt_0.jpg', '142_dt_0.jpg', '059__1.jpg', '159__1.jpg', '070_d_0.jpg', '084_d_1.jpg', '108_d_0.jpg', '171__0.jpg', '060_d_0.jpg', '094_d_1.jpg', '071__0.jpg', '118_d_0.jpg', '174_t_0.jpg', '180_t_1.jpg', '024__1.jpg', '164_t_0.jpg', '190_t_1.jpg', '124__1.jpg', '116_t_0.jpg', '155__1.jpg', '106_t_0.jpg', '055__1.jpg', '012_d_0.jpg', '002_d_0.jpg', '100__0.jpg', '128__1.jpg', '028__1.jpg', '002_dt_0.jpg', '003_dt_0.jpg', '074_dt_1.jpg', '075_dt_1.jpg', '090_dt_0.jpg', '091_dt_0.jpg', '063__0.jpg', '023_t_1.jpg', '163__0.jpg', '033_t_1.jpg', '136__1.jpg', '127_d_1.jpg', '036__1.jpg', '137_d_1.jpg', '036__0.jpg', '137_d_0.jpg', '136__0.jpg', '127_d_0.jpg', '163__1.jpg', '033_t_0.jpg', '063__1.jpg', '023_t_0.jpg', '091_dt_1.jpg', '090_dt_1.jpg', '075_dt_0.jpg', '074_dt_0.jpg', '003_dt_1.jpg', '002_dt_1.jpg', '028__0.jpg', '128__0.jpg', '002_d_1.jpg', '100__1.jpg', '012_d_1.jpg', '106_t_1.jpg', '055__0.jpg', '116_t_1.jpg', '155__0.jpg', '164_t_1.jpg', '190_t_0.jpg', '124__0.jpg', '174_t_1.jpg', '180_t_0.jpg', '024__0.jpg', '060_d_1.jpg', '094_d_0.jpg', '118_d_1.jpg', '071__1.jpg', '070_d_1.jpg', '084_d_0.jpg', '171__1.jpg', '108_d_1.jpg', '159__0.jpg', '059__0.jpg', '142_dt_1.jpg', '143_dt_1.jpg', '134_dt_0.jpg', '135_dt_0.jpg', '012__1.jpg', '129_t_0.jpg', '051_t_0.jpg', '112__1.jpg', '139_t_0.jpg', '041_t_0.jpg', '147__0.jpg', '155_d_0.jpg', '047__0.jpg', '145_d_0.jpg', '077_t_0.jpg', '083_t_1.jpg', '067_t_0.jpg', '093_t_1.jpg', '173_d_0.jpg', '187_d_1.jpg', '100_dt_0.jpg', '190__0.jpg', '090__0.jpg', '101_dt_0.jpg', '163_d_0.jpg', '008_dt_0.jpg', '009_dt_0.jpg', '176_dt_1.jpg', '142_t_1.jpg', '152_t_1.jpg', '177_dt_1.jpg', '046_d_1.jpg', '192_dt_0.jpg', '056_d_1.jpg', '193_dt_0.jpg', '024_d_1.jpg', '034_d_1.jpg', '120_t_1.jpg', '082__0.jpg', '058_t_1.jpg', '037_dt_1.jpg', '130_t_1.jpg', '182__0.jpg', '036_dt_1.jpg', '048_t_1.jpg', '149_dt_0.jpg', '148_dt_0.jpg', '041_dt_0.jpg', '069_d_0.jpg', '111_d_0.jpg', '079_d_0.jpg', '040_dt_0.jpg', '101_d_0.jpg', '015_t_0.jpg', '189_t_1.jpg', '005_t_0.jpg', '189_t_0.jpg', '005_t_1.jpg', '015_t_1.jpg', '040_dt_1.jpg', '079_d_1.jpg', '101_d_1.jpg', '069_d_1.jpg', '041_dt_1.jpg', '111_d_1.jpg', '148_dt_1.jpg', '149_dt_1.jpg', '182__1.jpg', '130_t_0.jpg', '048_t_0.jpg', '036_dt_0.jpg', '082__1.jpg', '120_t_0.jpg', '037_dt_0.jpg', '058_t_0.jpg', '034_d_0.jpg', '024_d_0.jpg', '056_d_0.jpg', '193_dt_1.jpg', '046_d_0.jpg', '192_dt_1.jpg', '177_dt_0.jpg', '152_t_0.jpg', '142_t_0.jpg', '176_dt_0.jpg', '009_dt_1.jpg', '008_dt_1.jpg', '163_d_1.jpg', '101_dt_1.jpg', '090__1.jpg', '190__1.jpg', '100_dt_1.jpg', '173_d_1.jpg', '187_d_0.jpg', '067_t_1.jpg', '093_t_0.jpg', '077_t_1.jpg', '083_t_0.jpg', '144_dt_0.jpg', '145_dt_0.jpg', '008__1.jpg', '108__1.jpg', '120__0.jpg', '178_d_0.jpg', '010_d_0.jpg', '168_d_0.jpg', '020__0.jpg', '104_t_0.jpg', '088_t_1.jpg', '075__1.jpg', '114_t_0.jpg', '098_t_1.jpg', '175__1.jpg', '016__1.jpg', '135_d_1.jpg', '116__1.jpg', '125_d_1.jpg', '143__0.jpg', '149_t_1.jpg', '031_t_1.jpg', '159_t_1.jpg', '043__0.jpg', '021_t_1.jpg', '132_dt_1.jpg', '133_dt_1.jpg', '073_dt_1.jpg', '072_dt_1.jpg', '097_dt_0.jpg', '096_dt_0.jpg', '032__0.jpg', '053_t_1.jpg', '132__0.jpg', '043_t_1.jpg', '167__1.jpg', '157_d_1.jpg', '067__1.jpg', '147_d_1.jpg', '166_t_0.jpg', '192_t_1.jpg', '104__1.jpg', '176_t_0.jpg', '182_t_1.jpg', '004__1.jpg', '062_d_0.jpg', '096_d_1.jpg', '051__0.jpg', '072_d_0.jpg', '086_d_1.jpg', '151__0.jpg', '179__1.jpg', '079__1.jpg', '005_dt_0.jpg', '004_dt_0.jpg', '004_dt_1.jpg', '005_dt_1.jpg', '079__0.jpg', '179__0.jpg', '072_d_1.jpg', '086_d_0.jpg', '151__1.jpg', '062_d_1.jpg', '096_d_0.jpg', '051__1.jpg', '176_t_1.jpg', '182_t_0.jpg', '004__0.jpg', '166_t_1.jpg', '192_t_0.jpg', '104__0.jpg', '067__0.jpg', '147_d_0.jpg', '167__0.jpg', '157_d_0.jpg', '132__1.jpg', '043_t_0.jpg', '032__1.jpg', '053_t_0.jpg', '096_dt_1.jpg', '097_dt_1.jpg', '072_dt_0.jpg', '073_dt_0.jpg', '133_dt_0.jpg', '132_dt_0.jpg', '043__1.jpg', '159_t_0.jpg', '021_t_0.jpg', '149_t_0.jpg', '143__1.jpg', '031_t_0.jpg', '116__0.jpg', '125_d_0.jpg', '016__0.jpg', '135_d_0.jpg', '114_t_1.jpg', '175__0.jpg', '098_t_0.jpg', '104_t_1.jpg', '075__0.jpg', '088_t_0.jpg', '010_d_1.jpg', '020__1.jpg', '168_d_1.jpg', '178_d_1.jpg', '120__1.jpg', '108__0.jpg', '008__0.jpg', '145_dt_1.jpg', '144_dt_1.jpg', '132_t_1.jpg', '171_dt_1.jpg', '170_dt_1.jpg', '122_t_1.jpg', '036_d_1.jpg', '195_dt_0.jpg', '026_d_1.jpg', '194_dt_0.jpg', '094__1.jpg', '007_t_0.jpg', '017_t_0.jpg', '194__1.jpg', '107_dt_0.jpg', '103_d_0.jpg', '113_d_0.jpg', '106_dt_0.jpg', '079_dt_1.jpg', '078_dt_1.jpg', '138_dt_1.jpg', '139_dt_1.jpg', '098__1.jpg', '019_d_0.jpg', '046_dt_0.jpg', '161_d_0.jpg', '195_d_1.jpg', '047_dt_0.jpg', '009_d_0.jpg', '171_d_0.jpg', '185_d_1.jpg', '065_t_0.jpg', '091_t_1.jpg', '075_t_0.jpg', '081_t_1.jpg', '186__1.jpg', '054_d_1.jpg', '044_d_1.jpg', '086__1.jpg', '150_t_1.jpg', '030_dt_1.jpg', '028_t_1.jpg', '140_t_1.jpg', '038_t_1.jpg', '031_dt_1.jpg', '140_t_0.jpg', '031_dt_0.jpg', '038_t_0.jpg', '150_t_0.jpg', '028_t_0.jpg', '030_dt_0.jpg', '086__0.jpg', '044_d_0.jpg', '054_d_0.jpg', '186__0.jpg', '075_t_1.jpg', '081_t_0.jpg', '065_t_1.jpg', '091_t_0.jpg', '009_d_1.jpg', '047_dt_1.jpg', '171_d_1.jpg', '185_d_0.jpg', '046_dt_1.jpg', '019_d_1.jpg', '161_d_1.jpg', '195_d_0.jpg', '098__0.jpg', '139_dt_0.jpg', '138_dt_0.jpg', '078_dt_0.jpg', '079_dt_0.jpg', '106_dt_1.jpg', '113_d_1.jpg', '103_d_1.jpg', '107_dt_1.jpg', '194__0.jpg', '017_t_1.jpg', '007_t_1.jpg', '094__0.jpg', '026_d_0.jpg', '194_dt_1.jpg', '036_d_0.jpg', '195_dt_1.jpg', '122_t_0.jpg', '170_dt_0.jpg', '171_dt_0.jpg', '132_t_0.jpg', '112_d_0.jpg', '188_dt_0.jpg', '102_d_0.jpg', '189_dt_0.jpg', '184__1.jpg', '016_t_0.jpg', '006_t_0.jpg', '084__1.jpg', '012_dt_0.jpg', '013_dt_0.jpg', '080_dt_0.jpg', '081_dt_0.jpg', '064_dt_1.jpg', '065_dt_1.jpg', '027_d_1.jpg', '037_d_1.jpg', '123_t_1.jpg', '133_t_1.jpg', '039_t_1.jpg', '141_t_1.jpg', '029_t_1.jpg', '151_t_1.jpg', '045_d_1.jpg', '096__1.jpg', '055_d_1.jpg', '125_dt_1.jpg', '124_dt_1.jpg', '088__1.jpg', '188__1.jpg', '153_dt_0.jpg', '152_dt_0.jpg', '074_t_0.jpg', '080_t_1.jpg', '064_t_0.jpg', '090_t_1.jpg', '170_d_0.jpg', '184_d_1.jpg', '008_d_0.jpg', '160_d_0.jpg', '194_d_1.jpg', '018_d_0.jpg', '160_d_1.jpg', '194_d_0.jpg', '018_d_1.jpg', '170_d_1.jpg', '184_d_0.jpg', '008_d_1.jpg', '064_t_1.jpg', '090_t_0.jpg', '074_t_1.jpg', '080_t_0.jpg', '152_dt_1.jpg', '153_dt_1.jpg', '188__0.jpg', '088__0.jpg', '124_dt_0.jpg', '125_dt_0.jpg', '055_d_0.jpg', '096__0.jpg', '045_d_0.jpg', '029_t_0.jpg', '151_t_0.jpg', '039_t_0.jpg', '141_t_0.jpg', '133_t_0.jpg', '123_t_0.jpg', '037_d_0.jpg', '027_d_0.jpg', '065_dt_0.jpg', '064_dt_0.jpg', '081_dt_1.jpg', '080_dt_1.jpg', '013_dt_1.jpg', '012_dt_1.jpg', '084__0.jpg', '006_t_1.jpg', '016_t_1.jpg', '184__0.jpg', '102_d_1.jpg', '189_dt_1.jpg', '112_d_1.jpg', '188_dt_1.jpg', '020_t_1.jpg', '027_dt_1.jpg', '053__0.jpg', '158_t_1.jpg', '030_t_1.jpg', '148_t_1.jpg', '153__0.jpg', '026_dt_1.jpg', '124_d_1.jpg', '106__1.jpg', '134_d_1.jpg', '006__1.jpg', '159_dt_0.jpg', '158_dt_0.jpg', '118__1.jpg', '018__1.jpg', '165__1.jpg', '099_t_1.jpg', '115_t_0.jpg', '065__1.jpg', '089_t_1.jpg', '105_t_0.jpg', '169_d_0.jpg', '030__0.jpg', '051_dt_0.jpg', '011_d_0.jpg', '130__0.jpg', '050_dt_0.jpg', '179_d_0.jpg', '001_d_0.jpg', '141__0.jpg', '110_dt_0.jpg', '073_d_0.jpg', '087_d_1.jpg', '041__0.jpg', '063_d_0.jpg', '097_d_1.jpg', '111_dt_0.jpg', '014__1.jpg', '177_t_0.jpg', '183_t_1.jpg', '114__1.jpg', '167_t_0.jpg', '193_t_1.jpg', '069__1.jpg', '169__1.jpg', '018_dt_0.jpg', '019_dt_0.jpg', '146_d_1.jpg', '182_dt_0.jpg', '077__1.jpg', '156_d_1.jpg', '177__1.jpg', '183_dt_0.jpg', '042_t_1.jpg', '166_dt_1.jpg', '122__0.jpg', '167_dt_1.jpg', '052_t_1.jpg', '022__0.jpg', '052_t_0.jpg', '167_dt_0.jpg', '022__1.jpg', '166_dt_0.jpg', '042_t_0.jpg', '122__1.jpg', '156_d_0.jpg', '183_dt_1.jpg', '177__0.jpg', '146_d_0.jpg', '077__0.jpg', '182_dt_1.jpg', '019_dt_1.jpg', '018_dt_1.jpg', '169__0.jpg', '069__0.jpg', '114__0.jpg', '167_t_1.jpg', '193_t_0.jpg', '014__0.jpg', '177_t_1.jpg', '183_t_0.jpg', '041__1.jpg', '111_dt_1.jpg', '063_d_1.jpg', '097_d_0.jpg', '141__1.jpg', '073_d_1.jpg', '087_d_0.jpg', '110_dt_1.jpg', '179_d_1.jpg', '050_dt_1.jpg', '130__1.jpg', '001_d_1.jpg', '051_dt_1.jpg', '030__1.jpg', '169_d_1.jpg', '011_d_1.jpg', '089_t_0.jpg', '065__0.jpg', '105_t_1.jpg', '099_t_0.jpg', '165__0.jpg', '115_t_1.jpg', '018__0.jpg', '118__0.jpg', '158_dt_1.jpg', '159_dt_1.jpg', '134_d_0.jpg', '006__0.jpg', '124_d_0.jpg', '106__0.jpg', '030_t_0.jpg', '026_dt_0.jpg', '153__1.jpg', '148_t_0.jpg', '020_t_0.jpg', '158_t_0.jpg', '053__1.jpg', '027_dt_0.jpg']\n"
     ]
    }
   ],
   "source": [
    "files = os.listdir(\"Augged/\")\n",
    "print(files)\n",
    "for file in files:\n",
    "    if( not file.endswith('.jpg')):\n",
    "        continue;\n",
    "    image = cv2.imread(\"Augged/\"+ file)\n",
    "    if image is None:\n",
    "        raise IOError('Unable to read ' + file)\n",
    "    image = cv2.resize(image,(756,1008))\n",
    "    gray = cv2.cvtColor(image,cv2.COLOR_BGR2GRAY)\n",
    "    eq = cv2.equalizeHist(gray)         #灰度图片直方图均衡化\n",
    "    left_ear_cascade = cv2.CascadeClassifier(r'haarcascade_mcs_rightear.xml')\n",
    "    if left_ear_cascade.empty():\n",
    "        raise IOError('Unable to load the left ear cascade classifier xml file')\n",
    "    xx = 1008\n",
    "    yy = 1008\n",
    "    ww = 0\n",
    "    hh = 0\n",
    "    left_ear = left_ear_cascade.detectMultiScale(eq,scaleFactor = 1.01,minNeighbors = 3,minSize = (200,350))\n",
    "    if(len(left_ear) == 1):\n",
    "        for (x,y,w,h) in left_ear:\n",
    "            if(x<xx and y<yy and w>ww and h>hh):\n",
    "                xx = x\n",
    "                yy = y\n",
    "                ww = w\n",
    "                hh = h\n",
    "    if(xx == 1008):\n",
    "        xx = 250\n",
    "        yy = 252\n",
    "        ww = 336\n",
    "        hh = 600\n",
    "    #cv2.rectangle(image, (xx,yy), (xx+ww,yy+hh), (0,255,0), 3)\n",
    "    cv2.imwrite(\"CropWithAug/\"+file, image[yy-30:yy+hh+30,xx-30:xx+ww+30])\n",
    "    #cv2.imshow('Ear Detector', cv2.resize(image,(378,504)))\n",
    "    #cv2.imshow('Ear Only', image[yy-30:yy+hh+30,xx-30:xx+ww+30])\n",
    "    #\n",
    "    #cv2.waitKey(0)\n",
    "    #cv2.destroyAllWindows()"
   ]
  },
  {
   "cell_type": "code",
   "execution_count": 11,
   "metadata": {
    "ExecuteTime": {
     "end_time": "2019-04-12T03:13:52.740887Z",
     "start_time": "2019-04-12T03:13:52.673738Z"
    }
   },
   "outputs": [
    {
     "data": {
      "text/plain": [
       "False"
      ]
     },
     "execution_count": 11,
     "metadata": {},
     "output_type": "execute_result"
    }
   ],
   "source": [
    "image = cv2.imread(\"Augged/\"+ \"165__1.jpg\")\n",
    "if image is None:\n",
    "    raise IOError('Unable to read ' + file)\n",
    "image = cv2.resize(image,(756,1008))\n",
    "gray = cv2.cvtColor(image,cv2.COLOR_BGR2GRAY)\n",
    "eq = cv2.equalizeHist(gray)         #灰度图片直方图均衡化\n",
    "left_ear_cascade = cv2.CascadeClassifier(r'haarcascade_mcs_rightear.xml')\n",
    "if left_ear_cascade.empty():\n",
    "    raise IOError('Unable to load the left ear cascade classifier xml file')\n",
    "xx = 1008\n",
    "yy = 1008\n",
    "ww = 0\n",
    "hh = 0\n",
    "left_ear = left_ear_cascade.detectMultiScale(eq,scaleFactor = 1.01,minNeighbors = 3,minSize = (200,350))\n",
    "if(len(left_ear) == 1):\n",
    "    for (x,y,w,h) in left_ear:\n",
    "        if(x<xx and y<yy and w>ww and h>hh):\n",
    "            xx = x\n",
    "            yy = y\n",
    "            ww = w\n",
    "            hh = h\n",
    "if(xx == 1008):\n",
    "    xx = 250\n",
    "    yy = 252\n",
    "    ww = 336\n",
    "    hh = 600\n",
    "#cv2.rectangle(image, (xx,yy), (xx+ww,yy+hh), (0,255,0), 3)\n",
    "cv2.imwrite(\"CropWithAug/\"+file, image[yy-30:yy+hh+30,xx-30:xx+ww+30])\n",
    "#cv2.imshow('Ear Detector', cv2.resize(image,(378,504)))\n",
    "#cv2.imshow('Ear Only', image[yy-30:yy+hh+30,xx-30:xx+ww+30])\n",
    "#\n",
    "#cv2.waitKey(0)"
   ]
  },
  {
   "cell_type": "code",
   "execution_count": 12,
   "metadata": {},
   "outputs": [],
   "source": []
  },
  {
   "cell_type": "code",
   "execution_count": null,
   "metadata": {},
   "outputs": [],
   "source": []
  }
 ],
 "metadata": {
  "kernelspec": {
   "display_name": "Python 3",
   "language": "python",
   "name": "python3"
  },
  "language_info": {
   "codemirror_mode": {
    "name": "ipython",
    "version": 3
   },
   "file_extension": ".py",
   "mimetype": "text/x-python",
   "name": "python",
   "nbconvert_exporter": "python",
   "pygments_lexer": "ipython3",
   "version": "3.6.5"
  },
  "toc": {
   "base_numbering": 1,
   "nav_menu": {},
   "number_sections": true,
   "sideBar": true,
   "skip_h1_title": false,
   "title_cell": "Table of Contents",
   "title_sidebar": "Contents",
   "toc_cell": false,
   "toc_position": {},
   "toc_section_display": true,
   "toc_window_display": false
  },
  "varInspector": {
   "cols": {
    "lenName": 16,
    "lenType": 16,
    "lenVar": 40
   },
   "kernels_config": {
    "python": {
     "delete_cmd_postfix": "",
     "delete_cmd_prefix": "del ",
     "library": "var_list.py",
     "varRefreshCmd": "print(var_dic_list())"
    },
    "r": {
     "delete_cmd_postfix": ") ",
     "delete_cmd_prefix": "rm(",
     "library": "var_list.r",
     "varRefreshCmd": "cat(var_dic_list()) "
    }
   },
   "types_to_exclude": [
    "module",
    "function",
    "builtin_function_or_method",
    "instance",
    "_Feature"
   ],
   "window_display": false
  }
 },
 "nbformat": 4,
 "nbformat_minor": 2
}
