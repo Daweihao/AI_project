{
 "cells": [
  {
   "cell_type": "code",
   "execution_count": 1,
   "metadata": {},
   "outputs": [],
   "source": [
    "import os\n",
    "import cv2\n",
    "import numpy as np"
   ]
  },
  {
   "cell_type": "code",
   "execution_count": 15,
   "metadata": {},
   "outputs": [
    {
     "name": "stdout",
     "output_type": "stream",
     "text": [
      "['001_.jpg', '001_d.jpg', '001_dt.jpg', '001_t.jpg', '002_.jpg', '002_d.jpg', '002_dt.jpg', '002_t.jpg', '003_.jpg', '003_d.jpg', '003_dt.jpg', '003_t.jpg', '004_.jpg', '004_d.jpg', '004_dt.jpg', '004_t.jpg', '005_.jpg', '005_d.jpg', '005_dt.jpg', '005_t.jpg', '006_.jpg', '006_d.jpg', '006_dt.jpg', '006_t.jpg', '007_.jpg', '007_d.jpg', '007_dt.jpg', '007_t.jpg', '008_.jpg', '008_d.jpg', '008_dt.jpg', '008_t.jpg', '009_.jpg', '009_d.jpg', '009_dt.jpg', '009_t.jpg', '010_.jpg', '010_d.jpg', '010_dt.jpg', '010_t.jpg', '011_.jpg', '011_d.jpg', '011_dt.jpg', '011_t.jpg', '012_.jpg', '012_d.jpg', '012_dt.jpg', '012_t.jpg', '013_.jpg', '013_d.jpg', '013_dt.jpg', '013_t.jpg', '014_.jpg', '014_d.jpg', '014_dt.jpg', '014_t.jpg', '015_.jpg', '015_d.jpg', '015_dt.jpg', '015_t.jpg', '016_.jpg', '016_d.jpg', '016_dt.jpg', '016_t.jpg', '017_.jpg', '017_d.jpg', '017_dt.jpg', '017_t.jpg', '018_.jpg', '018_d.jpg', '018_dt.jpg', '018_t.jpg', '019_.jpg', '019_d.jpg', '019_dt.jpg', '019_t.jpg', '020_.jpg', '020_d.jpg', '020_dt.jpg', '020_t.jpg', '021_.jpg', '021_d.jpg', '021_dt.jpg', '021_t.jpg', '022_.jpg', '022_d.jpg', '022_dt.jpg', '022_t.jpg', '023_.jpg', '023_d.jpg', '023_dt.jpg', '023_t.jpg', '024_.jpg', '024_d.jpg', '024_dt.jpg', '024_t.jpg', '025_.jpg', '025_d.jpg', '025_dt.jpg', '025_t.jpg', '026_.jpg', '026_d.jpg', '026_dt.jpg', '026_t.jpg', '027_.jpg', '027_d.jpg', '027_dt.jpg', '027_t.jpg', '028_.jpg', '028_d.jpg', '028_dt.jpg', '028_t.jpg', '029_.jpg', '029_d.jpg', '029_dt.jpg', '029_t.jpg', '030_.jpg', '030_d.jpg', '030_dt.jpg', '030_t.jpg', '031_.jpg', '031_d.jpg', '031_dt.jpg', '031_t.jpg', '032_.jpg', '032_d.jpg', '032_dt.jpg', '032_t.jpg', '033_.jpg', '033_d.jpg', '033_dt.jpg', '033_t.jpg', '034_.jpg', '034_d.jpg', '034_dt.jpg', '034_t.jpg', '035_.jpg', '035_d.jpg', '035_dt.jpg', '035_t.jpg', '036_.jpg', '036_d.jpg', '036_dt.jpg', '036_t.jpg', '037_.jpg', '037_d.jpg', '037_dt.jpg', '037_t.jpg', '038_.jpg', '038_d.jpg', '038_dt.jpg', '038_t.jpg', '039_.jpg', '039_d.jpg', '039_dt.jpg', '039_t.jpg', '040_.jpg', '040_d.jpg', '040_dt.jpg', '040_t.jpg', '041_.jpg', '041_d.jpg', '041_dt.jpg', '041_t.jpg', '042_.jpg', '042_d.jpg', '042_dt.jpg', '042_t.jpg', '043_.jpg', '043_d.jpg', '043_dt.jpg', '043_t.jpg', '044_.jpg', '044_d.jpg', '044_dt.jpg', '044_t.jpg', '045_.jpg', '045_d.jpg', '045_dt.jpg', '045_t.jpg', '046_.jpg', '046_d.jpg', '046_dt.jpg', '046_t.jpg', '047_.jpg', '047_d.jpg', '047_dt.jpg', '047_t.jpg', '048_.jpg', '048_d.jpg', '048_dt.jpg', '048_t.jpg', '049_.jpg', '049_d.jpg', '049_dt.jpg', '049_t.jpg', '050_.jpg', '050_d.jpg', '050_dt.jpg', '050_t.jpg', '051_.jpg', '051_d.jpg', '051_dt.jpg', '051_t.jpg', '052_.jpg', '052_d.jpg', '052_dt.jpg', '052_t.jpg', '053_.jpg', '053_d.jpg', '053_dt.jpg', '053_t.jpg', '054_.jpg', '054_d.jpg', '054_dt.jpg', '054_t.jpg', '055_.jpg', '055_d.jpg', '055_dt.jpg', '055_t.jpg', '056_.jpg', '056_d.jpg', '056_dt.jpg', '056_t.jpg', '057_.jpg', '057_d.jpg', '057_dt.jpg', '057_t.jpg', '058_.jpg', '058_d.jpg', '058_dt.jpg', '058_t.jpg', '059_.jpg', '059_d.jpg', '059_dt.jpg', '059_t.jpg', '060_.jpg', '060_d.jpg', '060_dt.jpg', '060_t.jpg', '061_.jpg', '061_d.jpg', '061_dt.jpg', '061_t.jpg', '062_.jpg', '062_d.jpg', '062_dt.jpg', '062_t .jpg', '063_.jpg', '063_d.jpg', '063_dt.jpg', '063_t.jpg', '064_.jpg', '064_d.jpg', '064_dt.jpg', '064_t.jpg', '065_.jpg', '065_d.jpg', '065_dt.jpg', '065_t.jpg', '066_.jpg', '066_d.jpg', '066_dt.jpg', '066_t.jpg', '067_.jpg', '067_d.jpg', '067_dt.jpg', '067_t.jpg', '068_.jpg', '068_d.jpg', '068_dt.jpg', '068_t.jpg', '069_.jpg', '069_d.jpg', '069_dt.jpg', '069_t.jpg', '070_.jpg', '070_d.jpg', '070_dt.jpg', '070_t.jpg', '071_.jpg', '071_d.jpg', '071_dt.jpg', '071_t.jpg', '072_.jpg', '072_d.jpg', '072_dt.jpg', '072_t.jpg', '073_.jpg', '073_d.jpg', '073_dt.jpg', '073_t.jpg', '074_.jpg', '074_d.jpg', '074_dt.jpg', '074_t.jpg', '075_.jpg', '075_d.jpg', '075_dt.jpg', '075_t.jpg', '076_.jpg', '076_d.jpg', '076_dt.jpg', '076_t.jpg', '077_.jpg', '077_d.jpg', '077_dt.jpg', '077_t.jpg', '078_.jpg', '078_d.jpg', '078_dt.jpg', '078_t.jpg', '079_.jpg', '079_d.jpg', '079_dt.jpg', '079_t.jpg', '080_.jpg', '080_d.jpg', '080_dt.jpg', '080_t.jpg', '081_.jpg', '081_d.jpg', '081_dt.jpg', '081_t.jpg', '082_.jpg', '082_d.jpg', '082_dt.jpg', '082_t.jpg', '083_.jpg', '083_d.jpg', '083_dt.jpg', '083_t.jpg', '084_.jpg', '084_d.jpg', '084_dt.jpg', '084_t.jpg', '085_.jpg', '085_d.jpg', '085_dt.jpg', '085_t.jpg', '086_.jpg', '086_d.jpg', '086_dt.jpg', '086_t.jpg', '087_.jpg', '087_d.jpg', '087_dt.jpg', '087_t.jpg', '088_.jpg', '088_d.jpg', '088_dt.jpg', '088_t.jpg', '089_.jpg', '089_d.jpg', '089_dt.jpg', '089_t.jpg', '090_.jpg', '090_d.jpg', '090_dt.jpg', '090_t.jpg', '091_.jpg', '091_d.jpg', '091_dt.jpg', '091_t.jpg', '092_.jpg', '092_d.jpg', '092_dt.jpg', '092_t.jpg', '093_.jpg', '093_d.jpg', '093_dt.jpg', '093_t.jpg', '094_.jpg', '094_d.jpg', '094_dt.jpg', '094_t.jpg', '095_.jpg', '095_d.jpg', '095_dt.jpg', '095_t.jpg', '096_.jpg', '096_d.jpg', '096_dt.jpg', '096_t.jpg', '097_.jpg', '097_d.jpg', '097_dt.jpg', '097_t.jpg', '098_.jpg', '098_d.jpg', '098_dt.jpg', '098_t.jpg', '099_.jpg', '099_d.jpg', '099_dt.jpg', '099_t.jpg', '100_.jpg', '100_d.jpg', '100_dt.jpg', '100_t.jpg', '101_.jpg', '101_d.jpg', '101_dt.jpg', '101_t.jpg', '102_.jpg', '102_d.jpg', '102_dt.jpg', '102_t.jpg', '103_.jpg', '103_d.jpg', '103_dt.jpg', '103_t.jpg', '104_.jpg', '104_d.jpg', '104_dt.jpg', '104_t.jpg', '105_.jpg', '105_d.jpg', '105_dt.jpg', '105_t.jpg', '106_.jpg', '106_d.jpg', '106_dt.jpg', '106_t.jpg', '107_.jpg', '107_d.jpg', '107_dt.jpg', '107_t.jpg', '108_.jpg', '108_d.jpg', '108_dt.jpg', '108_t.jpg', '109_.jpg', '109_d.jpg', '109_dt.jpg', '109_t.jpg', '110_.jpg', '110_d.jpg', '110_dt.jpg', '110_t.jpg', '111_.jpg', '111_d.jpg', '111_dt.jpg', '111_t.jpg', '112_.jpg', '112_d.jpg', '112_dt.jpg', '112_t.jpg', '113_.jpg', '113_d.jpg', '113_dt.jpg', '113_t.jpg', '114_.jpg', '114_d.jpg', '114_dt.jpg', '114_t.jpg', '115_.jpg', '115_d.jpg', '115_dt.jpg', '115_t.jpg', '116_.jpg', '116_d.jpg', '116_dt.jpg', '116_t.jpg', '117_.jpg', '117_d.jpg', '117_dt.jpg', '117_t.jpg', '118_.jpg', '118_d.jpg', '118_dt.jpg', '118_t.jpg', '119_.jpg', '119_d.jpg', '119_dt.jpg', '119_t.jpg', '120_.jpg', '120_d.jpg', '120_dt.jpg', '120_t.jpg', '121_.jpg', '121_d.jpg', '121_dt.jpg', '121_t.jpg', '122_.jpg', '122_d.jpg', '122_dt.jpg', '122_t.jpg', '123_.jpg', '123_d.jpg', '123_dt.jpg', '123_t.jpg', '124_.jpg', '124_d.jpg', '124_dt.jpg', '124_t.jpg', '125_.jpg', '125_d.jpg', '125_dt.jpg', '125_t.jpg', '126_.jpg', '126_d.jpg', '126_dt.jpg', '126_t.jpg', '127_.jpg', '127_d.jpg', '127_dt.jpg', '127_t.jpg', '128_.jpg', '128_d.jpg', '128_dt.jpg', '128_t.jpg', '129_.jpg', '129_d.jpg', '129_dt.jpg', '129_t.jpg', '130_.jpg', '130_d.jpg', '130_dt.jpg', '130_t.jpg', '131_.jpg', '131_d.jpg', '131_dt.jpg', '131_t.jpg', '132_.jpg', '132_d.jpg', '132_dt.jpg', '132_t.jpg', '133_.jpg', '133_d.jpg', '133_dt.jpg', '133_t.jpg', '134_.jpg', '134_d.jpg', '134_dt.jpg', '134_t.jpg', '135_.jpg', '135_d.jpg', '135_dt.jpg', '135_t.jpg', '136_.jpg', '136_d.jpg', '136_dt.jpg', '136_t.jpg', '137_.jpg', '137_d.jpg', '137_dt.jpg', '137_t.jpg', '138_.jpg', '138_d.jpg', '138_dt.jpg', '138_t.jpg', '139_.jpg', '139_d.jpg', '139_dt.jpg', '139_t.jpg', '140_.jpg', '140_d.jpg', '140_dt.jpg', '140_t.jpg', '141_.jpg', '141_d.jpg', '141_dt.jpg', '141_t.jpg', '142_.jpg', '142_d.jpg', '142_dt.jpg', '142_t.jpg', '143_.jpg', '143_d.jpg', '143_dt.jpg', '143_t.jpg', '144_.jpg', '144_d.jpg', '144_dt.jpg', '144_t.jpg', '145_.jpg', '145_d.jpg', '145_dt.jpg', '145_t.jpg', '146_.jpg', '146_d.jpg', '146_dt.jpg', '146_t.jpg', '147_.jpg', '147_d.jpg', '147_dt.jpg', '147_t.jpg', '148_.jpg', '148_d.jpg', '148_dt.jpg', '148_t.jpg', '149_.jpg', '149_d.jpg', '149_dt.jpg', '149_t.jpg', '150_.jpg', '150_d.jpg', '150_dt.jpg', '150_t.jpg', '151_.jpg', '151_d.jpg', '151_dt.jpg', '151_t.jpg', '152_.jpg', '152_d.jpg', '152_dt.jpg', '152_t.jpg', '153_.jpg', '153_d.jpg', '153_dt.jpg', '153_t.jpg', '154_.jpg', '154_d.jpg', '154_dt.jpg', '154_t.jpg', '155_.jpg', '155_d.jpg', '155_dt.jpg', '155_t.jpg', '156_.jpg', '156_d.jpg', '156_dt.jpg', '156_t.jpg', '157_.jpg', '157_d.jpg', '157_dt.jpg', '157_t.jpg', '158_.jpg', '158_d.jpg', '158_dt.jpg', '158_t.jpg', '159_.jpg', '159_d.jpg', '159_dt.jpg', '159_t.jpg', '160_.jpg', '160_d.jpg', '160_dt.jpg', '160_t.jpg', '161_.jpg', '161_d.jpg', '161_dt.jpg', '161_t.jpg', '162_.jpg', '162_d.jpg', '162_dt.jpg', '162_t.jpg', '163_.jpg', '163_d.jpg', '163_dt.jpg', '163_t.jpg', '164_.jpg', '164_d.jpg', '164_dt.jpg', '164_t.jpg', '165_.jpg', '165_d.jpg', '165_dt.jpg', '165_t.jpg', '166_.jpg', '166_d.jpg', '166_dt.jpg', '166_t.jpg', '167_.jpg', '167_d.jpg', '167_dt.jpg', '167_t.jpg', '168_.jpg', '168_d.jpg', '168_dt.jpg', '168_t.jpg', '169_.jpg', '169_d.jpg', '169_dt.jpg', '169_t.jpg', '170_.jpg', '170_d.jpg', '170_dt.jpg', '170_t.jpg', '171_.jpg', '171_d.jpg', '171_dt.jpg', '171_t.jpg', '172_.jpg', '172_d.jpg', '172_dt.jpg', '172_t.jpg', '173_.jpg', '173_d.jpg', '173_dt.jpg', '173_t.jpg', '174_.jpg', '174_d.jpg', '174_dt.jpg', '174_t.jpg', '175_.jpg', '175_d.jpg', '175_dt.jpg', '175_t.jpg', '176_.jpg', '176_d.jpg', '176_dt.jpg', '176_t.jpg', '177_.jpg', '177_d.jpg', '177_dt.jpg', '177_t.jpg', '178_.jpg', '178_d.jpg', '178_dt.jpg', '178_t.jpg', '179_.jpg', '179_d.jpg', '179_dt.jpg', '179_t.jpg', '180_.jpg', '180_d.jpg', '180_dt.jpg', '180_t.jpg', '181_.jpg', '181_d.jpg', '181_dt.jpg', '181_t.jpg', '182_.jpg', '182_d.jpg', '182_dt.jpg', '182_t.jpg', '183_.jpg', '183_d.jpg', '183_dt.jpg', '183_t.jpg', '184_.jpg', '184_d.jpg', '184_dt.jpg', '184_t.jpg', '185_.jpg', '185_d.jpg', '185_dt.jpg', '185_t.jpg', '186_.jpg', '186_d.jpg', '186_dt.jpg', '186_t.jpg', '187_.jpg', '187_d.jpg', '187_dt.jpg', '187_t.jpg', '188_.jpg', '188_d.jpg', '188_dt.jpg', '188_t.jpg', '189_.jpg', '189_d.jpg', '189_dt.jpg', '189_t.jpg', '190_.jpg', '190_d.jpg', '190_dt.jpg', '190_t.jpg', '191_.jpg', '191_d.jpg', '191_dt.jpg', '191_t.jpg', '192_.jpg', '192_d.jpg', '192_dt.jpg', '192_t.jpg', '193_.jpg', '193_d.jpg', '193_dt.jpg', '193_t.jpg', '194_.jpg', '194_d.jpg', '194_dt.jpg', '194_t.jpg', '195_.jpg', '195_d.jpg', '195_dt.jpg', '195_t.jpg']\n"
     ]
    }
   ],
   "source": [
    "files = os.listdir(\"earImageDataset/\")\n",
    "print(files)\n",
    "for file in files:\n",
    "    image = cv2.imread(\"earImageDataset/\"+ file)\n",
    "    image = cv2.resize(image,(756,1008))\n",
    "    gray = cv2.cvtColor(image,cv2.COLOR_BGR2GRAY)\n",
    "    eq = cv2.equalizeHist(gray)         #灰度图片直方图均衡化\n",
    "    left_ear_cascade = cv2.CascadeClassifier(r'haarcascade_mcs_rightear.xml')\n",
    "    if left_ear_cascade.empty():\n",
    "        raise IOError('Unable to load the left ear cascade classifier xml file')\n",
    "    xx = 1008\n",
    "    yy = 1008\n",
    "    ww = 0\n",
    "    hh = 0\n",
    "    left_ear = left_ear_cascade.detectMultiScale(eq,scaleFactor = 1.01,minNeighbors = 3,minSize = (200,350))\n",
    "    if(len(left_ear) == 1):\n",
    "        for (x,y,w,h) in left_ear:\n",
    "            if(x<xx and y<yy and w>ww and h>hh):\n",
    "                xx = x\n",
    "                yy = y\n",
    "                ww = w\n",
    "                hh = h\n",
    "    if(xx == 1008):\n",
    "        xx = 250\n",
    "        yy = 252\n",
    "        ww = 336\n",
    "        hh = 600\n",
    "    #cv2.rectangle(image, (xx,yy), (xx+ww,yy+hh), (0,255,0), 3)\n",
    "    cv2.imwrite(\"Cropped/\"+file, image[yy-30:yy+hh+30,xx-30:xx+ww+30])\n",
    "    #cv2.imshow('Ear Detector', cv2.resize(image,(378,504)))\n",
    "    #cv2.imshow('Ear Only', image[yy-30:yy+hh+30,xx-30:xx+ww+30])\n",
    "    #\n",
    "    #cv2.waitKey(0)\n",
    "    #cv2.destroyAllWindows()"
   ]
  },
  {
   "cell_type": "code",
   "execution_count": 12,
   "metadata": {},
   "outputs": [],
   "source": []
  },
  {
   "cell_type": "code",
   "execution_count": null,
   "metadata": {},
   "outputs": [],
   "source": []
  }
 ],
 "metadata": {
  "kernelspec": {
   "display_name": "Python 3",
   "language": "python",
   "name": "python3"
  },
  "language_info": {
   "codemirror_mode": {
    "name": "ipython",
    "version": 3
   },
   "file_extension": ".py",
   "mimetype": "text/x-python",
   "name": "python",
   "nbconvert_exporter": "python",
   "pygments_lexer": "ipython3",
   "version": "3.7.1"
  }
 },
 "nbformat": 4,
 "nbformat_minor": 2
}
